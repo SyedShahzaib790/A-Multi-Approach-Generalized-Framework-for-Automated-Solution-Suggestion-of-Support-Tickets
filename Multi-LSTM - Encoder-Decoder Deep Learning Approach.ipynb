{
 "cells": [
  {
   "cell_type": "code",
   "execution_count": null,
   "metadata": {
    "scrolled": true
   },
   "outputs": [],
   "source": [
    "# !pip install spacy\n",
    "# !python -m spacy download en_core_web_lg\n",
    "# !pip install bert_score\n",
    "# !pip install pytorch-pretrained-bert\n",
    "# !pip install spacy ftfy==4.4.3\n",
    "# !pip install pytorch_transformers\n",
    "# !pip install torch==1.3.0\n",
    "# !pip install keras\n",
    "# !pip install tensorflow\n",
    "!pip install pydot"
   ]
  },
  {
   "cell_type": "markdown",
   "metadata": {},
   "source": [
    "# Load Libraries"
   ]
  },
  {
   "cell_type": "code",
   "execution_count": 1,
   "metadata": {},
   "outputs": [],
   "source": [
    "from functions import *\n",
    "from Sentence_ import Sentence_\n",
    "from Ticket_ import Ticket_\n",
    "from Ticket_Pair_ import Ticket_Pair_\n",
    "import pandas as pd"
   ]
  },
  {
   "cell_type": "code",
   "execution_count": 2,
   "metadata": {},
   "outputs": [
    {
     "name": "stderr",
     "output_type": "stream",
     "text": [
      "[nltk_data] Downloading package stopwords to\n",
      "[nltk_data]     /home/cloud_user/nltk_data...\n",
      "[nltk_data]   Package stopwords is already up-to-date!\n"
     ]
    }
   ],
   "source": [
    "from sklearn.feature_extraction.text import CountVectorizer\n",
    "import nltk\n",
    "nltk.download('stopwords')\n",
    "from nltk.corpus import stopwords\n",
    "stopWords = stopwords.words('english')"
   ]
  },
  {
   "cell_type": "code",
   "execution_count": 3,
   "metadata": {},
   "outputs": [],
   "source": [
    "from sklearn.metrics.pairwise import cosine_similarity\n",
    "import numpy as np\n",
    "from bert_score import score"
   ]
  },
  {
   "cell_type": "code",
   "execution_count": 4,
   "metadata": {},
   "outputs": [
    {
     "name": "stderr",
     "output_type": "stream",
     "text": [
      "[nltk_data] Downloading package wordnet to\n",
      "[nltk_data]     /home/cloud_user/nltk_data...\n",
      "[nltk_data]   Package wordnet is already up-to-date!\n",
      "[nltk_data] Downloading package punkt to /home/cloud_user/nltk_data...\n",
      "[nltk_data]   Package punkt is already up-to-date!\n"
     ]
    },
    {
     "data": {
      "text/plain": [
       "True"
      ]
     },
     "execution_count": 4,
     "metadata": {},
     "output_type": "execute_result"
    }
   ],
   "source": [
    "from nltk.translate.meteor_score import meteor_score\n",
    "import nltk\n",
    "nltk.download('wordnet')\n",
    "nltk.download('punkt')"
   ]
  },
  {
   "cell_type": "code",
   "execution_count": null,
   "metadata": {},
   "outputs": [],
   "source": []
  },
  {
   "cell_type": "markdown",
   "metadata": {},
   "source": [
    "# Load Dataset"
   ]
  },
  {
   "cell_type": "code",
   "execution_count": 5,
   "metadata": {},
   "outputs": [],
   "source": [
    "\n",
    "final_to_consider = pd.read_pickle('\"-- Set Respective Path HERE --\" ')"
   ]
  },
  {
   "cell_type": "markdown",
   "metadata": {},
   "source": [
    "# Deep Learning Approach"
   ]
  },
  {
   "cell_type": "code",
   "execution_count": 6,
   "metadata": {},
   "outputs": [
    {
     "name": "stderr",
     "output_type": "stream",
     "text": [
      "Using TensorFlow backend.\n"
     ]
    }
   ],
   "source": [
    "import pandas as pd\n",
    "import numpy as np\n",
    "import string\n",
    "from string import digits\n",
    "import matplotlib.pyplot as plt\n",
    "%matplotlib inline\n",
    "import re\n",
    "from sklearn.utils import shuffle\n",
    "from sklearn.model_selection import train_test_split\n",
    "from keras.layers import Input, LSTM, Embedding, Dense\n",
    "from keras.models import Model"
   ]
  },
  {
   "cell_type": "code",
   "execution_count": 7,
   "metadata": {},
   "outputs": [],
   "source": [
    "sorted_idx = final_to_consider.ticket_obj.map(lambda x: x.date).sort_values().index\n",
    "final_to_consider = final_to_consider.loc[sorted_idx]"
   ]
  },
  {
   "cell_type": "code",
   "execution_count": 8,
   "metadata": {},
   "outputs": [],
   "source": [
    "def clean_text(txt, remove_commas=True):\n",
    "    \n",
    "    txt = txt.lower().replace('\\n',' ').replace(',',' , ')\n",
    "    special_characters= set(string.punctuation)\n",
    "    if not remove_commas:\n",
    "        special_characters.remove(',')\n",
    "        \n",
    "    txt = ''.join(char1 for char1 in txt if char1 not in special_characters)\n",
    "    num_digits= str.maketrans('','', digits)\n",
    "    txt = txt.translate(num_digits).strip()\n",
    "    txt = re.sub(\" +\", \" \", txt)\n",
    "    return txt"
   ]
  },
  {
   "cell_type": "code",
   "execution_count": 9,
   "metadata": {},
   "outputs": [],
   "source": [
    "add_marks = lambda x : 'START_ '+ x + ' _END'"
   ]
  },
  {
   "cell_type": "code",
   "execution_count": 10,
   "metadata": {},
   "outputs": [],
   "source": [
    "source = final_to_consider.ticket_obj.map(lambda x: x.content.text).values.tolist()\n",
    "# target = final_to_consider.ticket_obj.map(lambda x: x.resolution.text).values.tolist()\n",
    "target=final_to_consider.res_actions.map(sorted).str.join(',').values.tolist()"
   ]
  },
  {
   "cell_type": "code",
   "execution_count": null,
   "metadata": {},
   "outputs": [],
   "source": []
  },
  {
   "cell_type": "code",
   "execution_count": 11,
   "metadata": {},
   "outputs": [],
   "source": [
    "source = list(map(lambda x: clean_text(x, True), target))\n",
    "target = list(map(lambda x: clean_text(x, False), target))\n",
    "target = list(map(add_marks,target))"
   ]
  },
  {
   "cell_type": "code",
   "execution_count": 12,
   "metadata": {},
   "outputs": [],
   "source": [
    "max_source_length = max(list(map(lambda x: len(x.split()), source)))\n",
    "max_target_length = max(list(map(lambda x: len(x.split()), target)))"
   ]
  },
  {
   "cell_type": "code",
   "execution_count": 13,
   "metadata": {
    "scrolled": true
   },
   "outputs": [
    {
     "data": {
      "text/plain": [
       "(309, 331)"
      ]
     },
     "execution_count": 13,
     "metadata": {},
     "output_type": "execute_result"
    }
   ],
   "source": [
    "max_source_length, max_target_length"
   ]
  },
  {
   "cell_type": "code",
   "execution_count": 14,
   "metadata": {},
   "outputs": [],
   "source": [
    "# Find all the source and target words and sort them\n",
    "# Vocabulary of Source language\n",
    "all_source_words=set()\n",
    "for source_ in source:\n",
    "    for word in source_.split():\n",
    "        if word not in all_source_words:\n",
    "            all_source_words.add(word)\n",
    "# Vocabulary of Target \n",
    "all_target_words=set()\n",
    "for target_ in target:\n",
    "    for word in target_.split():\n",
    "        if word not in all_target_words:\n",
    "            all_target_words.add(word)\n",
    "# sort all unique source and target words\n",
    "source_words= sorted(list(all_source_words))\n",
    "target_words=sorted(list(all_target_words))"
   ]
  },
  {
   "cell_type": "code",
   "execution_count": 15,
   "metadata": {},
   "outputs": [],
   "source": [
    "source_word2idx= dict([(word, i+1) for i,word in enumerate(source_words)])\n",
    "target_word2idx= dict([(word, i+1) for i,word in enumerate(target_words)])"
   ]
  },
  {
   "cell_type": "code",
   "execution_count": 16,
   "metadata": {},
   "outputs": [],
   "source": [
    "source_idx2word= dict([(i, word) for word,i in source_word2idx.items()])\n",
    "target_idx2word= dict([(i, word) for word,i in target_word2idx.items()])"
   ]
  },
  {
   "cell_type": "markdown",
   "metadata": {},
   "source": [
    "# Split Train/Test Data"
   ]
  },
  {
   "cell_type": "code",
   "execution_count": 17,
   "metadata": {},
   "outputs": [],
   "source": [
    "final_to_consider.loc[:,'source'] = source\n",
    "final_to_consider.loc[:,'target'] = target"
   ]
  },
  {
   "cell_type": "code",
   "execution_count": 18,
   "metadata": {},
   "outputs": [],
   "source": [
    "\n",
    "train_percentage = 0.70\n",
    "val_percentage = 0.10\n",
    "test_percentage = 0.20\n",
    "train_break = int(final_to_consider.shape[0]*train_percentage)\n",
    "val_break = train_break+int(final_to_consider.shape[0]*val_percentage)\n",
    "\n",
    "X_train = final_to_consider[:train_break].source.values.tolist()\n",
    "y_train = final_to_consider[:train_break].target.values.tolist()\n",
    "\n",
    "X_val = final_to_consider[train_break:val_break].source.values.tolist()\n",
    "y_val = final_to_consider[train_break:val_break].target.values.tolist()\n",
    "\n",
    "X_test = final_to_consider[val_break:].source.values.tolist()\n",
    "y_test = final_to_consider[val_break:].target.values.tolist()"
   ]
  },
  {
   "cell_type": "code",
   "execution_count": 19,
   "metadata": {},
   "outputs": [],
   "source": [
    "test_df =  final_to_consider[val_break:]"
   ]
  },
  {
   "cell_type": "code",
   "execution_count": 20,
   "metadata": {},
   "outputs": [
    {
     "data": {
      "text/plain": [
       "(11900, 1700, 3400)"
      ]
     },
     "execution_count": 20,
     "metadata": {},
     "output_type": "execute_result"
    }
   ],
   "source": [
    "len(X_train), len(X_val), len(X_test)"
   ]
  },
  {
   "cell_type": "code",
   "execution_count": 21,
   "metadata": {},
   "outputs": [],
   "source": [
    "# Input tokens for encoder\n",
    "num_encoder_tokens=len(source_word2idx)+1\n",
    "# Input tokens for decoder zero padded\n",
    "num_decoder_tokens=len(target_word2idx)+1"
   ]
  },
  {
   "cell_type": "code",
   "execution_count": 22,
   "metadata": {},
   "outputs": [],
   "source": [
    "def generate_batch(X = X_train, y = y_train, batch_size = 128):\n",
    "    ''' Generate a batch of data '''\n",
    "    while True:\n",
    "        for j in range(0, len(X), batch_size):\n",
    "            encoder_input_data = np.zeros((batch_size, max_source_length),dtype='float32')\n",
    "            decoder_input_data = np.zeros((batch_size, max_target_length),dtype='float32')\n",
    "            decoder_target_data = np.zeros((batch_size, max_target_length, num_decoder_tokens),dtype='float32')\n",
    "            for i, (input_text, target_text) in enumerate(zip(X[j:j+batch_size], y[j:j+batch_size])):\n",
    "                for t, word in enumerate(input_text.split()):\n",
    "                    encoder_input_data[i, t] = source_word2idx[word] \n",
    "                for t, word in enumerate(target_text.split()):\n",
    "                    if t<len(target_text.split())-1:\n",
    "                        decoder_input_data[i, t] = target_word2idx[word] # decoder input seq\n",
    "                    if t>0:\n",
    "                        # decoder target sequence (one hot encoded)\n",
    "                        # does not include the START_ token\n",
    "                        # Offset by one timestep\n",
    "                        #print(word)\n",
    "                        decoder_target_data[i, t - 1, target_word2idx[word]] = 1.\n",
    "\n",
    "            yield([encoder_input_data, decoder_input_data], decoder_target_data)"
   ]
  },
  {
   "cell_type": "markdown",
   "metadata": {},
   "source": [
    "## Encoder"
   ]
  },
  {
   "cell_type": "code",
   "execution_count": 23,
   "metadata": {},
   "outputs": [],
   "source": [
    "from keras.layers import Input, LSTM, Dense, RNN\n",
    "latent_dims = [512,256] # we loop LSTMCells then wrap them in an RNN layer\n",
    "\n",
    "encoder_inputs = Input(shape=(None,))\n",
    "enc_emb =  Embedding(num_encoder_tokens, latent_dims[0], mask_zero = True)(encoder_inputs)\n",
    "\n",
    "e_outputs, h1, c1 = LSTM(latent_dims[0], return_state=True, return_sequences=True)(enc_emb) \n",
    "_, h2, c2 = LSTM(latent_dims[1], return_state=True)(e_outputs) \n",
    "encoder_states = [h1, c1, h2, c2]\n",
    "\n",
    "decoder_inputs = Input(shape=(None,))\n",
    "dec_emb_layer = Embedding(num_decoder_tokens, latent_dims[0], mask_zero = True)\n",
    "dec_emb = dec_emb_layer(decoder_inputs)\n",
    "\n",
    "out_layer1 = LSTM(latent_dims[0], return_sequences=True, return_state=True)\n",
    "d_outputs, dh1, dc1 = out_layer1(dec_emb, initial_state= [h1, c1])\n",
    "out_layer2 = LSTM(latent_dims[1], return_sequences=True, return_state=True)\n",
    "final, dh2, dc2 = out_layer2(d_outputs, initial_state= [h2, c2])\n",
    "decoder_dense = Dense(num_decoder_tokens, activation='softmax')\n",
    "decoder_outputs = decoder_dense(final)\n",
    "\n",
    "\n",
    "model = Model([encoder_inputs, decoder_inputs], decoder_outputs)\n",
    "\n",
    "# plot_model(model, to_file='model_plot.png', show_shapes=True, show_layer_names=True,expand_nested=True)"
   ]
  },
  {
   "cell_type": "code",
   "execution_count": 24,
   "metadata": {},
   "outputs": [],
   "source": [
    "# encoder_inputs = Input(shape=(None,num_encoder_tokens))\n",
    "# enc_emb =  Embedding(num_encoder_tokens, latent_dims[0], mask_zero = True)(encoder_inputs)\n",
    "\n",
    "# outputs = encoder_inputs\n",
    "# encoder_states = []\n",
    "# for j in range(len(latent_dims))[::-1]:\n",
    "#     outputs, h, c = LSTM(latent_dims[j], return_state=True, return_sequences=bool(j))(outputs)\n",
    "#     encoder_states += [h, c]"
   ]
  },
  {
   "cell_type": "code",
   "execution_count": 25,
   "metadata": {},
   "outputs": [],
   "source": [
    "# # Define an input sequence and process it.\n",
    "# encoder_inputs = Input(shape=(None,))\n",
    "# enc_emb =  Embedding(num_encoder_tokens, latent_dim, mask_zero = True)(encoder_inputs)\n",
    "# encoder_lstm = LSTM(latent_dim, return_state=True)\n",
    "# encoder_outputs, state_h, state_c = encoder_lstm(enc_emb)\n",
    "# # We discard `encoder_outputs` and only keep the states.\n",
    "# encoder_states = [state_h, state_c]"
   ]
  },
  {
   "cell_type": "markdown",
   "metadata": {},
   "source": [
    "## Decoder"
   ]
  },
  {
   "cell_type": "code",
   "execution_count": 26,
   "metadata": {},
   "outputs": [],
   "source": [
    "# decoder_inputs = Input(shape=(None,num_decoder_tokens))\n",
    "# # dec_emb_layer = Embedding(num_decoder_tokens, latent_dims[0], mask_zero = True)\n",
    "\n",
    "# outputs = decoder_inputs\n",
    "# output_layers = []\n",
    "# for j in range(len(latent_dims)):\n",
    "#     output_layers.append(\n",
    "#         LSTM(latent_dims[len(latent_dims) - j - 1], return_sequences=True, return_state=True)\n",
    "#     )\n",
    "#     outputs, dh, dc = output_layers[-1](outputs, initial_state=encoder_states[2*j:2*(j+1)])\n",
    "\n",
    "\n",
    "# decoder_dense = Dense(num_decoder_tokens, activation='softmax')\n",
    "# decoder_outputs = decoder_dense(outputs)"
   ]
  },
  {
   "cell_type": "code",
   "execution_count": 27,
   "metadata": {},
   "outputs": [],
   "source": [
    "# # Set up the decoder, using `encoder_states` as initial state.\n",
    "# decoder_inputs = Input(shape=(None,))\n",
    "# dec_emb_layer = Embedding(num_decoder_tokens, latent_dim, mask_zero = True)\n",
    "# dec_emb = dec_emb_layer(decoder_inputs)\n",
    "# # We set up our decoder to return full output sequences,\n",
    "# # and to return internal states as well. We don't use the\n",
    "# # return states in the training model, but we will use them in inference.\n",
    "# decoder_lstm = LSTM(latent_dim, return_sequences=True, return_state=True)\n",
    "# decoder_outputs, _, _ = decoder_lstm(dec_emb,initial_state=encoder_states)\n",
    "# decoder_dense = Dense(num_decoder_tokens, activation='softmax')\n",
    "# decoder_outputs = decoder_dense(decoder_outputs)"
   ]
  },
  {
   "cell_type": "code",
   "execution_count": 28,
   "metadata": {},
   "outputs": [],
   "source": [
    "model.compile(optimizer='rmsprop', loss='categorical_crossentropy', metrics=['acc'])"
   ]
  },
  {
   "cell_type": "code",
   "execution_count": 30,
   "metadata": {},
   "outputs": [
    {
     "data": {
      "image/png": "[encoded data removed]",
      "text/plain": [
       "<IPython.core.display.Image object>"
      ]
     },
     "execution_count": 30,
     "metadata": {},
     "output_type": "execute_result"
    }
   ],
   "source": [
    "from keras.utils.vis_utils import plot_model\n",
    "plot_model(model, to_file='model_plot.png', show_shapes=True, show_layer_names=True,expand_nested=True)"
   ]
  },
  {
   "cell_type": "code",
   "execution_count": 31,
   "metadata": {},
   "outputs": [],
   "source": [
    "train_samples = len(X_train) # Total Training samples\n",
    "val_samples = len(X_val)    # Total validation or test samples\n",
    "batch_size = 64\n",
    "epochs = 20"
   ]
  },
  {
   "cell_type": "code",
   "execution_count": 32,
   "metadata": {},
   "outputs": [
    {
     "name": "stderr",
     "output_type": "stream",
     "text": [
      "/home/cloud_user/anaconda3/envs/ticket_resolution/lib/python3.6/site-packages/tensorflow/python/framework/indexed_slices.py:434: UserWarning: Converting sparse IndexedSlices to a dense Tensor of unknown shape. This may consume a large amount of memory.\n",
      "  \"Converting sparse IndexedSlices to a dense Tensor of unknown shape. \"\n"
     ]
    },
    {
     "name": "stdout",
     "output_type": "stream",
     "text": [
      "Epoch 1/20\n",
      "185/185 [==============================] - 3558s 19s/step - loss: 0.1609 - acc: 0.2311 - val_loss: 0.1042 - val_acc: 0.2755\n",
      "Epoch 2/20\n",
      "185/185 [==============================] - 3544s 19s/step - loss: 0.1285 - acc: 0.3391 - val_loss: 0.1037 - val_acc: 0.3784\n",
      "Epoch 3/20\n",
      "185/185 [==============================] - 4465s 24s/step - loss: 0.1100 - acc: 0.4373 - val_loss: 0.0857 - val_acc: 0.4595\n",
      "Epoch 4/20\n",
      "185/185 [==============================] - 4236s 23s/step - loss: 0.0975 - acc: 0.4989 - val_loss: 0.0866 - val_acc: 0.5069\n",
      "Epoch 5/20\n",
      "185/185 [==============================] - 4287s 23s/step - loss: 0.0882 - acc: 0.5424 - val_loss: 0.1366 - val_acc: 0.5434\n",
      "Epoch 6/20\n",
      "185/185 [==============================] - 3594s 19s/step - loss: 0.0808 - acc: 0.5766 - val_loss: 0.1000 - val_acc: 0.5784\n",
      "Epoch 7/20\n",
      "185/185 [==============================] - 3559s 19s/step - loss: 0.0744 - acc: 0.6058 - val_loss: 0.1256 - val_acc: 0.6017\n",
      "Epoch 8/20\n",
      "185/185 [==============================] - 3556s 19s/step - loss: 0.0688 - acc: 0.6320 - val_loss: 0.0888 - val_acc: 0.6294\n",
      "Epoch 9/20\n",
      "185/185 [==============================] - 3565s 19s/step - loss: 0.0640 - acc: 0.6544 - val_loss: 0.0858 - val_acc: 0.6416\n",
      "Epoch 10/20\n",
      "185/185 [==============================] - 2760s 15s/step - loss: 0.0591 - acc: 0.6756 - val_loss: 0.0877 - val_acc: 0.6586\n",
      "Epoch 11/20\n",
      "185/185 [==============================] - 1996s 11s/step - loss: 0.0550 - acc: 0.6943 - val_loss: 0.0496 - val_acc: 0.6653\n",
      "Epoch 12/20\n",
      "185/185 [==============================] - 2047s 11s/step - loss: 0.0511 - acc: 0.7123 - val_loss: 0.0764 - val_acc: 0.6703\n",
      "Epoch 13/20\n",
      "185/185 [==============================] - 2082s 11s/step - loss: 0.0474 - acc: 0.7305 - val_loss: 0.0841 - val_acc: 0.6696\n",
      "Epoch 14/20\n",
      "185/185 [==============================] - 2082s 11s/step - loss: 0.0440 - acc: 0.7475 - val_loss: 0.0938 - val_acc: 0.6787\n",
      "Epoch 15/20\n",
      "185/185 [==============================] - 2093s 11s/step - loss: 0.0406 - acc: 0.7648 - val_loss: 0.0529 - val_acc: 0.6777\n",
      "Epoch 16/20\n",
      "185/185 [==============================] - 2093s 11s/step - loss: 0.0374 - acc: 0.7810 - val_loss: 0.0580 - val_acc: 0.6762\n",
      "Epoch 17/20\n",
      "185/185 [==============================] - 2005s 11s/step - loss: 0.0343 - acc: 0.7977 - val_loss: 0.0546 - val_acc: 0.6804\n",
      "Epoch 18/20\n",
      "185/185 [==============================] - 2955s 16s/step - loss: 0.0315 - acc: 0.8125 - val_loss: 0.0695 - val_acc: 0.6785\n",
      "Epoch 19/20\n",
      "185/185 [==============================] - 2997s 16s/step - loss: 0.0288 - acc: 0.8280 - val_loss: 0.0688 - val_acc: 0.6800\n",
      "Epoch 20/20\n",
      "185/185 [==============================] - 2984s 16s/step - loss: 0.0262 - acc: 0.8430 - val_loss: 0.0678 - val_acc: 0.6855\n"
     ]
    },
    {
     "data": {
      "text/plain": [
       "<keras.callbacks.callbacks.History at 0x7ff15a0385f8>"
      ]
     },
     "execution_count": 32,
     "metadata": {},
     "output_type": "execute_result"
    }
   ],
   "source": [
    "model.fit_generator(generator = generate_batch(X_train, y_train, batch_size = batch_size),\n",
    "                    steps_per_epoch = train_samples//batch_size,\n",
    "                    epochs=epochs,\n",
    "                    validation_data = generate_batch(X_val, y_val, batch_size = batch_size),\n",
    "                    validation_steps = val_samples//batch_size)"
   ]
  },
  {
   "cell_type": "code",
   "execution_count": 33,
   "metadata": {},
   "outputs": [],
   "source": [
    "model_history = pd.DataFrame(model.history.history, index=np.arange(1,epochs+1))"
   ]
  },
  {
   "cell_type": "code",
   "execution_count": 34,
   "metadata": {},
   "outputs": [],
   "source": [
    "model_history.to_pickle('../data/multi-lstm_model_history.pkl')"
   ]
  },
  {
   "cell_type": "code",
   "execution_count": 58,
   "metadata": {},
   "outputs": [
    {
     "data": {
      "image/png": "[encoded data removed]",
      "text/plain": [
       "<IPython.core.display.Image object>"
      ]
     },
     "execution_count": 58,
     "metadata": {},
     "output_type": "execute_result"
    }
   ],
   "source": [
    "from keras.utils.vis_utils import plot_model\n",
    "plot_model(model, to_file='model_plot.png', show_shapes=True, show_layer_names=True,expand_nested=True)"
   ]
  },
  {
   "cell_type": "markdown",
   "metadata": {},
   "source": [
    "## Inference Model"
   ]
  },
  {
   "cell_type": "code",
   "execution_count": 35,
   "metadata": {},
   "outputs": [],
   "source": [
    "encoder_model = Model(encoder_inputs, encoder_states)\n",
    "\n",
    "decoder_state_input_h = Input(shape=(latent_dims[0],))\n",
    "decoder_state_input_c = Input(shape=(latent_dims[0],))\n",
    "decoder_state_input_h1 = Input(shape=(latent_dims[1],))\n",
    "decoder_state_input_c1 = Input(shape=(latent_dims[1],))\n",
    "decoder_states_inputs = [decoder_state_input_h, decoder_state_input_c, \n",
    "                         decoder_state_input_h1, decoder_state_input_c1]\n",
    "d_o, state_h, state_c = out_layer1(dec_emb, initial_state=decoder_states_inputs[:2])\n",
    "\n",
    "d_o, state_h1, state_c1 = out_layer2(d_o, initial_state=decoder_states_inputs[-2:])\n",
    "decoder_states = [state_h, state_c, state_h1, state_c1]\n",
    "decoder_outputs = decoder_dense(d_o)\n",
    "decoder_model = Model(\n",
    "    [decoder_inputs] + decoder_states_inputs,\n",
    "    [decoder_outputs] + decoder_states)\n",
    "\n",
    "# decoder_model.summary()"
   ]
  },
  {
   "cell_type": "code",
   "execution_count": 36,
   "metadata": {},
   "outputs": [],
   "source": [
    "# # Encode the input sequence to get the \"Context vectors\"\n",
    "# # encoder_model = Model(encoder_inputs, encoder_states)\n",
    "# # Decoder setup\n",
    "# # Below tensors will hold the states of the previous time step\n",
    "# decoder_state_input_h = Input(shape=(latent_dim,))\n",
    "# decoder_state_input_c = Input(shape=(latent_dim,))\n",
    "# decoder_state_input = [decoder_state_input_h, decoder_state_input_c]\n",
    "# # Get the embeddings of the decoder sequence\n",
    "# dec_emb2= dec_emb_layer(decoder_inputs)\n",
    "# # To predict the next word in the sequence, set the initial states to the states from the previous time step\n",
    "# decoder_outputs2, state_h2, state_c2 = decoder_lstm(dec_emb2, initial_state=decoder_state_input)\n",
    "# decoder_states2 = [state_h2, state_c2]\n",
    "# # A dense softmax layer to generate prob dist. over the target vocabulary\n",
    "# decoder_outputs2 = decoder_dense(decoder_outputs2)\n",
    "# # Final decoder model\n",
    "# decoder_model = Model(\n",
    "#     [decoder_inputs] + decoder_state_input,\n",
    "#     [decoder_outputs2] + decoder_states2)"
   ]
  },
  {
   "cell_type": "code",
   "execution_count": 37,
   "metadata": {},
   "outputs": [],
   "source": [
    "def decode_sequence(input_seq):\n",
    "    # Encode the input as state vectors.\n",
    "    states_value = encoder_model.predict(input_seq)\n",
    "    # Generate empty target sequence of length 1.\n",
    "    target_seq = np.zeros((1,1))\n",
    "    # Populate the first character of \n",
    "    #target sequence with the start character.\n",
    "    target_seq[0, 0] = target_word2idx['START_']\n",
    "# Sampling loop for a batch of sequences\n",
    "    # (to simplify, here we assume a batch of size 1).\n",
    "    stop_condition = False\n",
    "    decoded_sentence = ''\n",
    "    while not stop_condition:\n",
    "        output_tokens, h, c, h1, c1 = decoder_model.predict([target_seq] + states_value)\n",
    "# Sample a token\n",
    "        sampled_token_index = np.argmax(output_tokens[0, -1, :])\n",
    "        sampled_word =target_idx2word[sampled_token_index]\n",
    "        decoded_sentence += ' '+ sampled_word\n",
    "# Exit condition: either hit max length\n",
    "        # or find stop character.\n",
    "        if (sampled_word == '_END' or\n",
    "           len(decoded_sentence) > 100):\n",
    "            stop_condition = True\n",
    "# Update the target sequence (of length 1).\n",
    "        target_seq = np.zeros((1,1))\n",
    "        target_seq[0, 0] = sampled_token_index\n",
    "# Update states\n",
    "        states_value = [h, c, h1, c1]\n",
    "    return decoded_sentence"
   ]
  },
  {
   "cell_type": "code",
   "execution_count": 38,
   "metadata": {},
   "outputs": [],
   "source": [
    "test_gen = generate_batch(X_test, y_test, batch_size = 1)\n",
    "\n",
    "y_preds = []\n",
    "\n",
    "for i in range(len(y_test)):\n",
    "    (input_seq, actual_output), _ = next(test_gen)\n",
    "    decoded_sentence = decode_sequence(input_seq)\n",
    "    y_preds.append(decoded_sentence)\n",
    "# print('Input Source sentence:', X_test[k:k+1].values[0])\n",
    "# print('Actual Target Translation:', y_test[k:k+1].values[0][6:-4])\n",
    "# print('Predicted Target Translation:', decoded_sentence[:-4])"
   ]
  },
  {
   "cell_type": "code",
   "execution_count": 39,
   "metadata": {},
   "outputs": [],
   "source": [
    "def split_actions(x):\n",
    "    x = re.sub('_END|START_', '', x).strip()\n",
    "    actions = set([a.strip() for a in x.split(',')])\n",
    "    try:\n",
    "        actions.remove('')\n",
    "    except:\n",
    "        pass\n",
    "    return list(actions)"
   ]
  },
  {
   "cell_type": "code",
   "execution_count": 40,
   "metadata": {},
   "outputs": [
    {
     "name": "stderr",
     "output_type": "stream",
     "text": [
      "/home/cloud_user/anaconda3/envs/ticket_resolution/lib/python3.6/site-packages/pandas/core/indexing.py:845: SettingWithCopyWarning: \n",
      "A value is trying to be set on a copy of a slice from a DataFrame.\n",
      "Try using .loc[row_indexer,col_indexer] = value instead\n",
      "\n",
      "See the caveats in the documentation: https://pandas.pydata.org/pandas-docs/stable/user_guide/indexing.html#returning-a-view-versus-a-copy\n",
      "  self.obj[key] = _infer_fill_value(value)\n",
      "/home/cloud_user/anaconda3/envs/ticket_resolution/lib/python3.6/site-packages/pandas/core/indexing.py:966: SettingWithCopyWarning: \n",
      "A value is trying to be set on a copy of a slice from a DataFrame.\n",
      "Try using .loc[row_indexer,col_indexer] = value instead\n",
      "\n",
      "See the caveats in the documentation: https://pandas.pydata.org/pandas-docs/stable/user_guide/indexing.html#returning-a-view-versus-a-copy\n",
      "  self.obj[item] = s\n"
     ]
    }
   ],
   "source": [
    "test_df.loc[:, 'predicted_actions'] = list(map(split_actions, y_preds))"
   ]
  },
  {
   "cell_type": "code",
   "execution_count": 41,
   "metadata": {
    "scrolled": true
   },
   "outputs": [],
   "source": [
    "# preds = pd.DataFrame(y_preds, columns=['predicted_actions'])\n",
    "\n",
    "# preds.to_pickle('../data/dl_preds.pkl')\n",
    "\n",
    "# \"\"\"\n",
    "# Apply actions extractor\n",
    "\n",
    "# \"\"\"\n",
    "# preds = pd.read_pickle('../data/dl_preds.pkl')\n",
    "# preds.loc[:,'res_actions'] = final_to_consider.res_actions[break_point:].values.tolist()\n",
    "# test_df = preds"
   ]
  },
  {
   "cell_type": "code",
   "execution_count": 42,
   "metadata": {},
   "outputs": [],
   "source": [
    "get_spacy_emb = lambda text: nlp(text).vector"
   ]
  },
  {
   "cell_type": "code",
   "execution_count": 43,
   "metadata": {},
   "outputs": [],
   "source": [
    "def get_neighbors_from_emb(test_vecs, train_vecs, k=5, threshold=0.8):\n",
    "    \n",
    "    if (len(test_vecs)==0) or (len(train_vecs)==0):\n",
    "        return pd.DataFrame(columns=['neighbors'])\n",
    "    \n",
    "    test_emb = np.matrix(test_vecs.tolist())\n",
    "    train_emb = np.matrix(train_vecs.tolist())\n",
    "    \n",
    "    similarity = cosine_similarity(test_emb, train_emb)\n",
    "    neighbors = []\n",
    "    similarity = np.round(similarity, 2)\n",
    "    \n",
    "    for i in range(similarity.shape[0]): \n",
    "        states = (similarity[i] >= threshold) & (similarity[0] <= 1)\n",
    "        indices = np.where(states)[0]\n",
    "        indices = indices[np.argsort(similarity[i][indices])[::-1][:k]]\n",
    "        sim_scores = np.round(similarity[i][indices], 4)\n",
    "        neighbors.append(list(tuple(zip(indices, sim_scores))))\n",
    "    \n",
    "    return pd.DataFrame([neighbors], index=['neighbors']).T"
   ]
  },
  {
   "cell_type": "code",
   "execution_count": 44,
   "metadata": {},
   "outputs": [],
   "source": [
    "# count = 0\n",
    "def map_best_actions(actual_actions, predicted_actions, res_vectorizer=None):\n",
    "    global count\n",
    "    \n",
    "#     count += 1\n",
    "    if (len(actual_actions)==0) or (len(predicted_actions)==0):\n",
    "        return pd.DataFrame()\n",
    "    \n",
    "    actual_actions_vecs = np.asarray([get_spacy_emb(action) for action in actual_actions])\n",
    "    predicted_actions_vecs = np.asarray([get_spacy_emb(action) for action in predicted_actions])\n",
    "    mapping_ = get_neighbors_from_emb(actual_actions_vecs, predicted_actions_vecs, k=1, threshold=0.0)\n",
    "    mapping_.index = actual_actions\n",
    "    mapping_ = mapping_[mapping_.neighbors.map(len)>0]\n",
    "    \n",
    "    try:\n",
    "        mapping_.neighbors = mapping_.neighbors.map(lambda x: (x[0][0], predicted_actions[x[0][0]], x[0][1]))\n",
    "    except:\n",
    "        print (actual_actions, predicted_actions)\n",
    "        print (mapping_)\n",
    "        raise Exception\n",
    "    \n",
    "    return mapping_"
   ]
  },
  {
   "cell_type": "markdown",
   "metadata": {},
   "source": [
    "# Evaluation of Results"
   ]
  },
  {
   "cell_type": "code",
   "execution_count": 45,
   "metadata": {},
   "outputs": [],
   "source": [
    "compute_meteor_score = lambda actual, prediction: round(meteor_score([actual], prediction), 4)\n",
    "compute_bert_scores = lambda actual_list, pred_list : np.round((score(pred_list, actual_list, lang='en', model_type='bert-base-uncased', nthreads=32,rescale_with_baseline=True)[-1]).tolist(),4)\n"
   ]
  },
  {
   "cell_type": "code",
   "execution_count": 46,
   "metadata": {},
   "outputs": [
    {
     "name": "stderr",
     "output_type": "stream",
     "text": [
      "/home/cloud_user/anaconda3/envs/ticket_resolution/lib/python3.6/site-packages/pandas/core/indexing.py:845: SettingWithCopyWarning: \n",
      "A value is trying to be set on a copy of a slice from a DataFrame.\n",
      "Try using .loc[row_indexer,col_indexer] = value instead\n",
      "\n",
      "See the caveats in the documentation: https://pandas.pydata.org/pandas-docs/stable/user_guide/indexing.html#returning-a-view-versus-a-copy\n",
      "  self.obj[key] = _infer_fill_value(value)\n",
      "/home/cloud_user/anaconda3/envs/ticket_resolution/lib/python3.6/site-packages/pandas/core/indexing.py:966: SettingWithCopyWarning: \n",
      "A value is trying to be set on a copy of a slice from a DataFrame.\n",
      "Try using .loc[row_indexer,col_indexer] = value instead\n",
      "\n",
      "See the caveats in the documentation: https://pandas.pydata.org/pandas-docs/stable/user_guide/indexing.html#returning-a-view-versus-a-copy\n",
      "  self.obj[item] = s\n"
     ]
    }
   ],
   "source": [
    "# test_df.loc[:,'predicted_actions'] = test_df.neighbors.apply(lambda x: set(itertools.chain(*[train_df.res_actions.loc[a[0]] for a in x]))).map(list)\n",
    "test_df.loc[:,'mapped_actions'] = test_df.apply(lambda x: map_best_actions(x['res_actions'],x['predicted_actions'], None), axis=1)\n"
   ]
  },
  {
   "cell_type": "code",
   "execution_count": 47,
   "metadata": {},
   "outputs": [],
   "source": [
    "def get_mapped_data(result_df, inc='None'):\n",
    "    \n",
    "    if result_df.shape[0] < 1:\n",
    "        return []\n",
    "    \n",
    "    incs = [inc]*result_df.shape[0]\n",
    "    actual_labels = result_df.index.tolist()\n",
    "    predicted_labels = result_df.neighbors.map(lambda x: x[1])\n",
    "    return list(zip(incs, actual_labels, predicted_labels))"
   ]
  },
  {
   "cell_type": "markdown",
   "metadata": {},
   "source": [
    "# Compute Meteor Score in Bunch "
   ]
  },
  {
   "cell_type": "code",
   "execution_count": 48,
   "metadata": {},
   "outputs": [],
   "source": [
    "def generate_best_meteor_scores(df_):\n",
    "    \"\"\" Input : df_['best_actions'] \"\"\"\n",
    "    \n",
    "    df_.loc[:,'best_meteor_scores'] = df_.mapped_actions.apply(lambda r: [compute_meteor_score(res[1],res[2]) for res in get_mapped_data(r)])\n",
    "    return df_"
   ]
  },
  {
   "cell_type": "markdown",
   "metadata": {},
   "source": [
    "# Compute BertScore in a Bunch"
   ]
  },
  {
   "cell_type": "code",
   "execution_count": 49,
   "metadata": {},
   "outputs": [],
   "source": [
    "def generate_best_bert_scores(df_):\n",
    "    \"\"\" Input : df_['best_actions'] \"\"\"\n",
    "    \n",
    "    bert_score_data = df_.apply(lambda x: get_mapped_data(x['mapped_actions'], x.ticket_obj.number) , axis=1)\n",
    "    bert_score_data = pd.DataFrame(list(itertools.chain(*bert_score_data.values.tolist())), columns=['number','actual','predicted'])\n",
    "    bert_score_data.loc[:,'bert_score'] = compute_bert_scores(bert_score_data['actual'].values.tolist(), bert_score_data['predicted'].values.tolist())\n",
    "    bert_score_data.loc[bert_score_data.bert_score<0, 'bert_score'] = 0.0\n",
    "    bert_score_data.index = bert_score_data.number.values.tolist()\n",
    "    df_.loc[:,'best_bert_scores'] = df_.ticket_obj.map(lambda x: bert_score_data.bert_score.loc[[x.number]].values.tolist() if x.number in bert_score_data.index else [])\n",
    "    return df_\n",
    "    \n"
   ]
  },
  {
   "cell_type": "code",
   "execution_count": 50,
   "metadata": {},
   "outputs": [],
   "source": [
    "# test_df.loc[:,'ticket_obj'] = final_to_consider.ticket_obj[11000:].values.tolist()\n",
    "# test_df"
   ]
  },
  {
   "cell_type": "code",
   "execution_count": 51,
   "metadata": {},
   "outputs": [],
   "source": [
    "test_df = generate_best_meteor_scores(test_df)\n",
    "test_df = generate_best_bert_scores(test_df)"
   ]
  },
  {
   "cell_type": "code",
   "execution_count": 52,
   "metadata": {},
   "outputs": [],
   "source": [
    "test_df.loc[:,'scores_sum'] = test_df.apply(lambda x: (np.mean([x['best_meteor_scores'], x['best_bert_scores']], axis=0).sum()), axis=1) \n"
   ]
  },
  {
   "cell_type": "code",
   "execution_count": 53,
   "metadata": {},
   "outputs": [],
   "source": [
    "test_df.loc[:, 'precision'] = test_df.apply(lambda x: x['scores_sum']/len(x['predicted_actions']) if len(x['predicted_actions'])!=0 else 0, axis=1).values.tolist()\n",
    "test_df.loc[:, 'recall'] = test_df.apply(lambda x: x['scores_sum']/len(x['res_actions']) if len(x['res_actions'])!=0 else 0, axis=1).values.tolist()\n",
    "test_df.loc[:, 'precision'] = test_df.precision.map(lambda x: 1.0 if x > 1.0 else x)\n",
    "test_df.loc[:, 'recall'] = test_df.recall.map(lambda x: 1.0 if x > 1.0 else x)\n",
    "test_df.loc[:, 'f1_score'] = ((2*test_df['precision']*test_df['recall'])/(test_df['precision']+test_df['recall'])).fillna(0).values.tolist()"
   ]
  },
  {
   "cell_type": "code",
   "execution_count": 54,
   "metadata": {},
   "outputs": [],
   "source": [
    "\"\"\" Encoder Decoder Model Multi-Layer\"\"\"\n",
    "results = test_df[['precision','recall','f1_score']].describe()"
   ]
  },
  {
   "cell_type": "code",
   "execution_count": 55,
   "metadata": {},
   "outputs": [
    {
     "data": {
      "text/html": [
       "<div>\n",
       "<style scoped>\n",
       "    .dataframe tbody tr th:only-of-type {\n",
       "        vertical-align: middle;\n",
       "    }\n",
       "\n",
       "    .dataframe tbody tr th {\n",
       "        vertical-align: top;\n",
       "    }\n",
       "\n",
       "    .dataframe thead th {\n",
       "        text-align: right;\n",
       "    }\n",
       "</style>\n",
       "<table border=\"1\" class=\"dataframe\">\n",
       "  <thead>\n",
       "    <tr style=\"text-align: right;\">\n",
       "      <th></th>\n",
       "      <th>precision</th>\n",
       "      <th>recall</th>\n",
       "      <th>f1_score</th>\n",
       "    </tr>\n",
       "  </thead>\n",
       "  <tbody>\n",
       "    <tr>\n",
       "      <th>count</th>\n",
       "      <td>3400.000000</td>\n",
       "      <td>3400.000000</td>\n",
       "      <td>3400.000000</td>\n",
       "    </tr>\n",
       "    <tr>\n",
       "      <th>mean</th>\n",
       "      <td>0.597338</td>\n",
       "      <td>0.612686</td>\n",
       "      <td>0.602122</td>\n",
       "    </tr>\n",
       "    <tr>\n",
       "      <th>std</th>\n",
       "      <td>0.277064</td>\n",
       "      <td>0.264661</td>\n",
       "      <td>0.271263</td>\n",
       "    </tr>\n",
       "    <tr>\n",
       "      <th>min</th>\n",
       "      <td>0.000000</td>\n",
       "      <td>0.000000</td>\n",
       "      <td>0.000000</td>\n",
       "    </tr>\n",
       "    <tr>\n",
       "      <th>25%</th>\n",
       "      <td>0.435400</td>\n",
       "      <td>0.447719</td>\n",
       "      <td>0.435400</td>\n",
       "    </tr>\n",
       "    <tr>\n",
       "      <th>50%</th>\n",
       "      <td>0.563800</td>\n",
       "      <td>0.563800</td>\n",
       "      <td>0.563800</td>\n",
       "    </tr>\n",
       "    <tr>\n",
       "      <th>75%</th>\n",
       "      <td>0.871000</td>\n",
       "      <td>0.871000</td>\n",
       "      <td>0.871000</td>\n",
       "    </tr>\n",
       "    <tr>\n",
       "      <th>max</th>\n",
       "      <td>1.000000</td>\n",
       "      <td>0.999850</td>\n",
       "      <td>0.999850</td>\n",
       "    </tr>\n",
       "  </tbody>\n",
       "</table>\n",
       "</div>"
      ],
      "text/plain": [
       "         precision       recall     f1_score\n",
       "count  3400.000000  3400.000000  3400.000000\n",
       "mean      0.597338     0.612686     0.602122\n",
       "std       0.277064     0.264661     0.271263\n",
       "min       0.000000     0.000000     0.000000\n",
       "25%       0.435400     0.447719     0.435400\n",
       "50%       0.563800     0.563800     0.563800\n",
       "75%       0.871000     0.871000     0.871000\n",
       "max       1.000000     0.999850     0.999850"
      ]
     },
     "execution_count": 55,
     "metadata": {},
     "output_type": "execute_result"
    }
   ],
   "source": [
    "results"
   ]
  },
  {
   "cell_type": "code",
   "execution_count": 57,
   "metadata": {},
   "outputs": [],
   "source": [
    "results.to_pickle('../data/multi-lst_results.pkl')"
   ]
  }
 ],
 "metadata": {
  "kernelspec": {
   "display_name": "Python [conda env:ticket_resolution]",
   "language": "python",
   "name": "conda-env-ticket_resolution-py"
  },
  "language_info": {
   "codemirror_mode": {
    "name": "ipython",
    "version": 3
   },
   "file_extension": ".py",
   "mimetype": "text/x-python",
   "name": "python",
   "nbconvert_exporter": "python",
   "pygments_lexer": "ipython3",
   "version": "3.6.5"
  }
 },
 "nbformat": 4,
 "nbformat_minor": 2
}
