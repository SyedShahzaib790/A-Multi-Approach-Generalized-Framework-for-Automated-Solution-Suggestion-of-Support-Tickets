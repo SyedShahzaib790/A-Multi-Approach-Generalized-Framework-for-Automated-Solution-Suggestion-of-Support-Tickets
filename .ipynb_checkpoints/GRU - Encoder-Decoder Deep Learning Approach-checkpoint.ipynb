{
 "cells": [
  {
   "cell_type": "code",
   "execution_count": 11,
   "metadata": {
    "scrolled": true
   },
   "outputs": [
    {
     "name": "stdout",
     "output_type": "stream",
     "text": [
      "Collecting tensorflow\n",
      "  Downloading tensorflow-2.2.0-cp36-cp36m-manylinux2010_x86_64.whl (516.2 MB)\n",
      "\u001b[K     |################################| 516.2 MB 27 kB/s s eta 0:00:01/s eta 0:00:51 0:00:51                   | 11.5 MB 10.1 MB/s eta 0:00:51             | 16.0 MB 10.1 MB/s eta 0:00:50                            | 19.9 MB 10.1 MB/s eta 0:00:50         | 23.8 MB 10.1 MB/s eta 0:00:49B/s eta 0:00:498 38.0 MB 10.1 MB/s eta 0:00:48| 42.1 MB 10.1 MB/s eta 0:00:47             | 46.6 MB 10.1 MB/s eta 0:00:47 49.8 MB 10.1 MB/s eta 0:00:47                            | 53.9 MB 10.1 MB/s eta 0:00:46B/s eta 0:00:46             | 63.0 MB 10.1 MB/s eta 0:00:45              | 66.7 MB 79.9 MB/s eta 0:00:06              | 70.3 MB 79.9 MB/s eta 0:00:06B/s eta 0:00:066 MB/s eta 0:00:0600:06               | 91.4 MB 79.9 MB/s eta 0:00:06 95.1 MB 79.9 MB/s eta 0:00:06| 99.3 MB 79.9 MB/s eta 0:00:06##                          | 103.5 MB 79.9 MB/s eta 0:00:06[K     |######                          | 108.4 MB 79.9 MB/s eta 0:00:06 |######                          | 112.3 MB 79.9 MB/s eta 0:00:06     |#######                         | 116.8 MB 79.9 MB/s eta 0:00:06     |#######                         | 120.0 MB 79.9 MB/s eta 0:00:05                    | 124.2 MB 79.9 MB/s eta 0:00:05#######                         | 128.3 MB 79.9 MB/s eta 0:00:05[K     |########                        | 133.1 MB 79.9 MB/s eta 0:00:05[K     |########                        | 136.8 MB 79.9 MB/s eta 0:00:05                        | 140.9 MB 84.2 MB/s eta 0:00:05##                        | 144.8 MB 84.2 MB/s eta 0:00:05[K     |#########                       | 148.9 MB 84.2 MB/s eta 0:00:05                    | 153.7 MB 84.2 MB/s eta 0:00:053 MB 84.2 MB/s eta 0:00:05   |##########                      | 161.5 MB 84.2 MB/s eta 0:00:05     |##########                      | 165.7 MB 84.2 MB/s eta 0:00:05     |##########                      | 169.8 MB 84.2 MB/s eta 0:00:05     |##########                      | 173.6 MB 84.2 MB/s eta 0:00:05[K     |###########                     | 177.8 MB 84.2 MB/s eta 0:00:05     |###########                     | 182.0 MB 84.2 MB/s eta 0:00:04     |###########                     | 186.3 MB 84.2 MB/s eta 0:00:04[K     |###########                     | 190.8 MB 84.2 MB/s eta 0:00:04     |############                    | 194.7 MB 84.2 MB/s eta 0:00:04     |############                    | 198.8 MB 84.2 MB/s eta 0:00:04######                    | 202.5 MB 84.2 MB/s eta 0:00:04##########                    | 206.3 MB 84.2 MB/s eta 0:00:04     |#############                   | 210.4 MB 84.2 MB/s eta 0:00:04     |#############                   | 214.6 MB 76.6 MB/s eta 0:00:04#########                   | 218.4 MB 76.6 MB/s eta 0:00:04#                   | 223.0 MB 76.6 MB/s eta 0:00:04   |##############                  | 227.0 MB 76.6 MB/s eta 0:00:04      | 231.1 MB 76.6 MB/s eta 0:00:04   |##############                  | 235.5 MB 76.6 MB/s eta 0:00:04      | 239.7 MB 76.6 MB/s eta 0:00:04MB/s eta 0:00:04#####                 | 247.4 MB 76.6 MB/s eta 0:00:04| 250.4 MB 76.6 MB/s eta 0:00:04###############                 | 255.1 MB 76.6 MB/s eta 0:00:04########                | 258.4 MB 76.6 MB/s eta 0:00:04262.0 MB 76.6 MB/s eta 0:00:04     |################                | 266.3 MB 76.6 MB/s eta 0:00:04############                | 273.0 MB 76.6 MB/s eta 0:00:04[K     |#################               | 277.7 MB 76.6 MB/s eta 0:00:04 |#################               | 281.3 MB 76.6 MB/s eta 0:00:04###########               | 284.8 MB 65.0 MB/s eta 0:00:04[K     |#################               | 289.0 MB 65.0 MB/s eta 0:00:04   |##################              | 292.5 MB 65.0 MB/s eta 0:00:04            | 295.8 MB 65.0 MB/s eta 0:00:04##################              | 299.4 MB 65.0 MB/s eta 0:00:04     |##################              | 303.5 MB 65.0 MB/s eta 0:00:04     |###################             | 307.7 MB 65.0 MB/s eta 0:00:04#############             | 312.3 MB 65.0 MB/s eta 0:00:04        | 314.8 MB 65.0 MB/s eta 0:00:04###############             | 318.3 MB 65.0 MB/s eta 0:00:04[K     |###################             | 322.4 MB 65.0 MB/s eta 0:00:03 |####################            | 325.6 MB 65.0 MB/s eta 0:00:03   |####################            | 329.7 MB 65.0 MB/s eta 0:00:03[K     |####################            | 333.8 MB 65.0 MB/s eta 0:00:03     |####################            | 337.7 MB 65.0 MB/s eta 0:00:03#####################           | 340.9 MB 65.0 MB/s eta 0:00:03[K     |#####################           | 344.6 MB 65.0 MB/s eta 0:00:03[K     |#####################           | 348.7 MB 78.6 MB/s eta 0:00:03#####################           | 351.9 MB 78.6 MB/s eta 0:00:03   |######################          | 356.3 MB 78.6 MB/s eta 0:00:03 |######################          | 359.5 MB 78.6 MB/s eta 0:00:02   |######################          | 363.6 MB 78.6 MB/s eta 0:00:02######################          | 367.0 MB 78.6 MB/s eta 0:00:02   |#######################         | 371.6 MB 78.6 MB/s eta 0:00:02[K     |#######################         | 375.6 MB 78.6 MB/s eta 0:00:02 |#######################         | 378.8 MB 78.6 MB/s eta 0:00:02     |#######################         | 382.7 MB 78.6 MB/s eta 0:00:02   |#######################         | 387.1 MB 78.6 MB/s eta 0:00:02########################        | 390.6 MB 78.6 MB/s eta 0:00:02##############        | 394.9 MB 78.6 MB/s eta 0:00:02   |########################        | 397.6 MB 78.6 MB/s eta 0:00:02[K     |########################        | 401.9 MB 78.6 MB/s eta 0:00:02#############       | 404.7 MB 78.6 MB/s eta 0:00:02###############       | 408.7 MB 78.6 MB/s eta 0:00:02     |#########################       | 411.4 MB 78.6 MB/s eta 0:00:02#######################       | 414.4 MB 78.6 MB/s eta 0:00:02[K     |#########################       | 418.8 MB 42.7 MB/s eta 0:00:03   |##########################      | 422.1 MB 42.7 MB/s eta 0:00:03########################      | 425.9 MB 42.7 MB/s eta 0:00:03########################      | 430.1 MB 42.7 MB/s eta 0:00:03 |##########################      | 433.3 MB 42.7 MB/s eta 0:00:02[K     |###########################     | 437.4 MB 42.7 MB/s eta 0:00:02     |###########################     | 440.5 MB 42.7 MB/s eta 0:00:02     |###########################     | 443.4 MB 42.7 MB/s eta 0:00:02[K     |###########################     | 447.3 MB 42.7 MB/s eta 0:00:02   |###########################     | 451.4 MB 42.7 MB/s eta 0:00:02     |############################    | 455.8 MB 42.7 MB/s eta 0:00:02[K     |############################    | 458.9 MB 42.7 MB/s eta 0:00:02[K     |############################    | 462.8 MB 42.7 MB/s eta 0:00:02   |############################    | 467.2 MB 42.7 MB/s eta 0:00:02[K     |#############################   | 471.6 MB 42.7 MB/s eta 0:00:02#########################   | 475.3 MB 42.7 MB/s eta 0:00:01#############################   | 478.6 MB 42.7 MB/s eta 0:00:01   |#############################   | 483.0 MB 78.8 MB/s eta 0:00:01 |##############################  | 486.2 MB 78.8 MB/s eta 0:00:01     |##############################  | 490.3 MB 78.8 MB/s eta 0:00:01############  | 493.7 MB 78.8 MB/s eta 0:00:01     |##############################  | 497.3 MB 78.8 MB/s eta 0:00:01############################# | 501.1 MB 78.8 MB/s eta 0:00:01[K     |############################### | 505.2 MB 78.8 MB/s eta 0:00:01[K     |############################### | 509.4 MB 78.8 MB/s eta 0:00:01########################### | 513.4 MB 78.8 MB/s eta 0:00:01\n",
      "\u001b[?25hCollecting tensorboard<2.3.0,>=2.2.0\n",
      "  Downloading tensorboard-2.2.1-py3-none-any.whl (3.0 MB)\n",
      "\u001b[K     |################################| 3.0 MB 54.0 MB/s eta 0:00:01\n",
      "\u001b[?25hRequirement already satisfied: six>=1.12.0 in /home/cloud_user/anaconda3/envs/ticket_resolution/lib/python3.6/site-packages (from tensorflow) (1.14.0)\n",
      "Collecting tensorflow-estimator<2.3.0,>=2.2.0\n",
      "  Downloading tensorflow_estimator-2.2.0-py2.py3-none-any.whl (454 kB)\n",
      "\u001b[K     |################################| 454 kB 67.7 MB/s eta 0:00:01\n",
      "\u001b[?25hCollecting gast==0.3.3\n",
      "  Downloading gast-0.3.3-py2.py3-none-any.whl (9.7 kB)\n"
     ]
    },
    {
     "name": "stdout",
     "output_type": "stream",
     "text": [
      "Collecting opt-einsum>=2.3.2\n",
      "  Downloading opt_einsum-3.2.1-py3-none-any.whl (63 kB)\n",
      "\u001b[K     |################################| 63 kB 3.6 MB/s  eta 0:00:01\n",
      "\u001b[?25hCollecting absl-py>=0.7.0\n",
      "  Using cached absl-py-0.9.0.tar.gz (104 kB)\n",
      "Collecting wrapt>=1.11.1\n",
      "  Downloading wrapt-1.12.1.tar.gz (27 kB)\n",
      "Collecting termcolor>=1.1.0\n",
      "  Using cached termcolor-1.1.0.tar.gz (3.9 kB)\n",
      "Requirement already satisfied: protobuf>=3.8.0 in /home/cloud_user/anaconda3/envs/ticket_resolution/lib/python3.6/site-packages (from tensorflow) (3.11.3)\n",
      "Requirement already satisfied: wheel>=0.26; python_version >= \"3\" in /home/cloud_user/anaconda3/envs/ticket_resolution/lib/python3.6/site-packages (from tensorflow) (0.34.2)\n",
      "Requirement already satisfied: scipy==1.4.1; python_version >= \"3\" in /home/cloud_user/anaconda3/envs/ticket_resolution/lib/python3.6/site-packages (from tensorflow) (1.4.1)\n",
      "Collecting google-pasta>=0.1.8\n",
      "  Using cached google_pasta-0.2.0-py3-none-any.whl (57 kB)\n",
      "Requirement already satisfied: h5py<2.11.0,>=2.10.0 in /home/cloud_user/anaconda3/envs/ticket_resolution/lib/python3.6/site-packages (from tensorflow) (2.10.0)\n",
      "Requirement already satisfied: keras-preprocessing>=1.1.0 in /home/cloud_user/anaconda3/envs/ticket_resolution/lib/python3.6/site-packages (from tensorflow) (1.1.0)\n",
      "Requirement already satisfied: numpy<2.0,>=1.16.0 in /home/cloud_user/anaconda3/envs/ticket_resolution/lib/python3.6/site-packages (from tensorflow) (1.18.3)\n",
      "Collecting astunparse==1.6.3\n",
      "  Downloading astunparse-1.6.3-py2.py3-none-any.whl (12 kB)\n",
      "Collecting grpcio>=1.8.6\n",
      "  Downloading grpcio-1.28.1-cp36-cp36m-manylinux2010_x86_64.whl (2.8 MB)\n",
      "\u001b[K     |################################| 2.8 MB 56.2 MB/s eta 0:00:01MB/s eta 0:00:01\n",
      "\u001b[?25hCollecting markdown>=2.6.8\n",
      "  Downloading Markdown-3.2.2-py3-none-any.whl (88 kB)\n",
      "\u001b[K     |################################| 88 kB 10.5 MB/s eta 0:00:01\n",
      "\u001b[?25hCollecting google-auth-oauthlib<0.5,>=0.4.1\n",
      "  Downloading google_auth_oauthlib-0.4.1-py2.py3-none-any.whl (18 kB)\n",
      "Collecting google-auth<2,>=1.6.3\n",
      "  Downloading google_auth-1.14.2-py2.py3-none-any.whl (89 kB)\n",
      "\u001b[K     |################################| 89 kB 12.1 MB/s eta 0:00:01\n",
      "\u001b[?25hRequirement already satisfied: setuptools>=41.0.0 in /home/cloud_user/anaconda3/envs/ticket_resolution/lib/python3.6/site-packages (from tensorboard<2.3.0,>=2.2.0->tensorflow) (46.1.3.post20200325)\n",
      "Collecting tensorboard-plugin-wit>=1.6.0\n",
      "  Downloading tensorboard_plugin_wit-1.6.0.post3-py3-none-any.whl (777 kB)\n",
      "\u001b[K     |################################| 777 kB 45.1 MB/s eta 0:00:01\n",
      "\u001b[?25hRequirement already satisfied: werkzeug>=0.11.15 in /home/cloud_user/anaconda3/envs/ticket_resolution/lib/python3.6/site-packages (from tensorboard<2.3.0,>=2.2.0->tensorflow) (1.0.1)\n",
      "Requirement already satisfied: requests<3,>=2.21.0 in /home/cloud_user/anaconda3/envs/ticket_resolution/lib/python3.6/site-packages (from tensorboard<2.3.0,>=2.2.0->tensorflow) (2.23.0)\n",
      "Requirement already satisfied: importlib-metadata; python_version < \"3.8\" in /home/cloud_user/anaconda3/envs/ticket_resolution/lib/python3.6/site-packages (from markdown>=2.6.8->tensorboard<2.3.0,>=2.2.0->tensorflow) (1.6.0)\n",
      "Collecting requests-oauthlib>=0.7.0\n",
      "  Downloading requests_oauthlib-1.3.0-py2.py3-none-any.whl (23 kB)\n",
      "Collecting cachetools<5.0,>=2.0.0\n",
      "  Downloading cachetools-4.1.0-py3-none-any.whl (10 kB)\n",
      "Collecting pyasn1-modules>=0.2.1\n",
      "  Downloading pyasn1_modules-0.2.8-py2.py3-none-any.whl (155 kB)\n",
      "\u001b[K     |################################| 155 kB 66.6 MB/s eta 0:00:01\n",
      "\u001b[?25hCollecting rsa<4.1,>=3.1.4\n",
      "  Downloading rsa-4.0-py2.py3-none-any.whl (38 kB)\n",
      "Requirement already satisfied: certifi>=2017.4.17 in /home/cloud_user/anaconda3/envs/ticket_resolution/lib/python3.6/site-packages (from requests<3,>=2.21.0->tensorboard<2.3.0,>=2.2.0->tensorflow) (2020.4.5.1)\n",
      "Requirement already satisfied: chardet<4,>=3.0.2 in /home/cloud_user/anaconda3/envs/ticket_resolution/lib/python3.6/site-packages (from requests<3,>=2.21.0->tensorboard<2.3.0,>=2.2.0->tensorflow) (3.0.4)\n",
      "Requirement already satisfied: urllib3!=1.25.0,!=1.25.1,<1.26,>=1.21.1 in /home/cloud_user/anaconda3/envs/ticket_resolution/lib/python3.6/site-packages (from requests<3,>=2.21.0->tensorboard<2.3.0,>=2.2.0->tensorflow) (1.25.9)\n",
      "Requirement already satisfied: idna<3,>=2.5 in /home/cloud_user/anaconda3/envs/ticket_resolution/lib/python3.6/site-packages (from requests<3,>=2.21.0->tensorboard<2.3.0,>=2.2.0->tensorflow) (2.9)\n",
      "Requirement already satisfied: zipp>=0.5 in /home/cloud_user/anaconda3/envs/ticket_resolution/lib/python3.6/site-packages (from importlib-metadata; python_version < \"3.8\"->markdown>=2.6.8->tensorboard<2.3.0,>=2.2.0->tensorflow) (3.1.0)\n",
      "Collecting oauthlib>=3.0.0\n",
      "  Downloading oauthlib-3.1.0-py2.py3-none-any.whl (147 kB)\n",
      "\u001b[K     |################################| 147 kB 67.5 MB/s eta 0:00:01\n",
      "\u001b[?25hCollecting pyasn1<0.5.0,>=0.4.6\n",
      "  Downloading pyasn1-0.4.8-py2.py3-none-any.whl (77 kB)\n",
      "\u001b[K     |################################| 77 kB 10.4 MB/s eta 0:00:01\n",
      "\u001b[?25hBuilding wheels for collected packages: absl-py, wrapt, termcolor\n",
      "  Building wheel for absl-py (setup.py) ... \u001b[?25ldone\n",
      "\u001b[?25h  Created wheel for absl-py: filename=absl_py-0.9.0-py3-none-any.whl size=121931 sha256=4d2ad7f195650a94152fdd88ec9e48671f56f60582dac26c1934a5597625cc24\n",
      "  Stored in directory: /home/cloud_user/.cache/pip/wheels/c3/af/84/3962a6af7b4ab336e951b7877dcfb758cf94548bb1771e0679\n",
      "  Building wheel for wrapt (setup.py) ... \u001b[?25ldone\n",
      "\u001b[?25h  Created wheel for wrapt: filename=wrapt-1.12.1-cp36-cp36m-linux_x86_64.whl size=66743 sha256=1d67710446d010a9dde19855eb340da71d91e9830a4c3558fc7f461d1f1ab098\n",
      "  Stored in directory: /home/cloud_user/.cache/pip/wheels/32/42/7f/23cae9ff6ef66798d00dc5d659088e57dbba01566f6c60db63\n",
      "  Building wheel for termcolor (setup.py) ... \u001b[?25ldone\n",
      "\u001b[?25h  Created wheel for termcolor: filename=termcolor-1.1.0-py3-none-any.whl size=4830 sha256=618f011128af63d77b21ffd7fdb371c982a05cd2d139846c4baf98be936485c4\n",
      "  Stored in directory: /home/cloud_user/.cache/pip/wheels/93/2a/eb/e58dbcbc963549ee4f065ff80a59f274cc7210b6eab962acdc\n",
      "Successfully built absl-py wrapt termcolor\n",
      "Installing collected packages: absl-py, markdown, oauthlib, requests-oauthlib, cachetools, pyasn1, pyasn1-modules, rsa, google-auth, google-auth-oauthlib, grpcio, tensorboard-plugin-wit, tensorboard, tensorflow-estimator, gast, opt-einsum, wrapt, termcolor, google-pasta, astunparse, tensorflow\n",
      "Successfully installed absl-py-0.9.0 astunparse-1.6.3 cachetools-4.1.0 gast-0.3.3 google-auth-1.14.2 google-auth-oauthlib-0.4.1 google-pasta-0.2.0 grpcio-1.28.1 markdown-3.2.2 oauthlib-3.1.0 opt-einsum-3.2.1 pyasn1-0.4.8 pyasn1-modules-0.2.8 requests-oauthlib-1.3.0 rsa-4.0 tensorboard-2.2.1 tensorboard-plugin-wit-1.6.0.post3 tensorflow-2.2.0 tensorflow-estimator-2.2.0 termcolor-1.1.0 wrapt-1.12.1\n"
     ]
    }
   ],
   "source": [
    "# !pip install spacy\n",
    "# !python -m spacy download en_core_web_lg\n",
    "# !pip install bert_score\n",
    "# !pip install pytorch-pretrained-bert\n",
    "# !pip install spacy ftfy==4.4.3\n",
    "# !pip install pytorch_transformers\n",
    "# !pip install torch==1.3.0\n",
    "# !pip install keras\n",
    "!pip install tensorflow"
   ]
  },
  {
   "cell_type": "markdown",
   "metadata": {},
   "source": [
    "# Load Libraries"
   ]
  },
  {
   "cell_type": "code",
   "execution_count": 1,
   "metadata": {},
   "outputs": [],
   "source": [
    "from functions import *\n",
    "from Sentence_ import Sentence_\n",
    "from Ticket_ import Ticket_\n",
    "from Ticket_Pair_ import Ticket_Pair_\n",
    "import pandas as pd"
   ]
  },
  {
   "cell_type": "code",
   "execution_count": 2,
   "metadata": {},
   "outputs": [],
   "source": [
    "from sklearn.feature_extraction.text import CountVectorizer\n",
    "# nltk.download('stopwords')\n",
    "# from nltk.corpus import stopwords\n",
    "# stopWords = stopwords.words('english')"
   ]
  },
  {
   "cell_type": "code",
   "execution_count": 3,
   "metadata": {},
   "outputs": [],
   "source": [
    "from sklearn.metrics.pairwise import cosine_similarity\n",
    "import numpy as np\n",
    "from bert_score import score"
   ]
  },
  {
   "cell_type": "code",
   "execution_count": 4,
   "metadata": {},
   "outputs": [
    {
     "name": "stderr",
     "output_type": "stream",
     "text": [
      "[nltk_data] Downloading package wordnet to\n",
      "[nltk_data]     /home/cloud_user/nltk_data...\n",
      "[nltk_data]   Package wordnet is already up-to-date!\n",
      "[nltk_data] Downloading package punkt to /home/cloud_user/nltk_data...\n",
      "[nltk_data]   Package punkt is already up-to-date!\n"
     ]
    },
    {
     "data": {
      "text/plain": [
       "True"
      ]
     },
     "execution_count": 4,
     "metadata": {},
     "output_type": "execute_result"
    }
   ],
   "source": [
    "from nltk.translate.meteor_score import meteor_score\n",
    "import nltk\n",
    "nltk.download('wordnet')\n",
    "nltk.download('punkt')"
   ]
  },
  {
   "cell_type": "markdown",
   "metadata": {},
   "source": [
    "# Load Dataset"
   ]
  },
  {
   "cell_type": "code",
   "execution_count": 5,
   "metadata": {},
   "outputs": [],
   "source": [
    "\n",
    "final_to_consider = pd.read_pickle('\"-- Set Respective Path HERE --\" ')"
   ]
  },
  {
   "cell_type": "markdown",
   "metadata": {},
   "source": [
    "# Deep Learning Approach"
   ]
  },
  {
   "cell_type": "code",
   "execution_count": 6,
   "metadata": {},
   "outputs": [
    {
     "name": "stderr",
     "output_type": "stream",
     "text": [
      "Using TensorFlow backend.\n"
     ]
    }
   ],
   "source": [
    "import pandas as pd\n",
    "import numpy as np\n",
    "import string\n",
    "from string import digits\n",
    "import matplotlib.pyplot as plt\n",
    "%matplotlib inline\n",
    "import re\n",
    "from sklearn.utils import shuffle\n",
    "from sklearn.model_selection import train_test_split\n",
    "from keras.layers import Input, LSTM, Embedding, Dense\n",
    "from keras.models import Model\n",
    "from keras.layers.recurrent import GRU"
   ]
  },
  {
   "cell_type": "code",
   "execution_count": 7,
   "metadata": {},
   "outputs": [],
   "source": [
    "sorted_idx = final_to_consider.ticket_obj.map(lambda x: x.date).sort_values().index\n",
    "final_to_consider = final_to_consider.loc[sorted_idx]"
   ]
  },
  {
   "cell_type": "code",
   "execution_count": 8,
   "metadata": {},
   "outputs": [],
   "source": [
    "def clean_text(txt, remove_commas=True):\n",
    "    \n",
    "    txt = txt.lower().replace('\\n',' ').replace(',',' , ')\n",
    "    special_characters= set(string.punctuation)\n",
    "    if not remove_commas:\n",
    "        special_characters.remove(',')\n",
    "        \n",
    "    txt = ''.join(char1 for char1 in txt if char1 not in special_characters)\n",
    "    num_digits= str.maketrans('','', digits)\n",
    "    txt = txt.translate(num_digits).strip()\n",
    "    txt = re.sub(\" +\", \" \", txt)\n",
    "    return txt"
   ]
  },
  {
   "cell_type": "code",
   "execution_count": 9,
   "metadata": {},
   "outputs": [],
   "source": [
    "add_marks = lambda x : 'START_ '+ x + ' _END'"
   ]
  },
  {
   "cell_type": "code",
   "execution_count": 10,
   "metadata": {},
   "outputs": [],
   "source": [
    "source = final_to_consider.ticket_obj.map(lambda x: x.content.text).values.tolist()\n",
    "# target = final_to_consider.ticket_obj.map(lambda x: x.resolution.text).values.tolist()\n",
    "target=final_to_consider.res_actions.map(sorted).str.join(',').values.tolist()"
   ]
  },
  {
   "cell_type": "code",
   "execution_count": 11,
   "metadata": {},
   "outputs": [],
   "source": [
    "source = list(map(lambda x: clean_text(x, True), target))\n",
    "target = list(map(lambda x: clean_text(x, False), target))\n",
    "target = list(map(add_marks,target))"
   ]
  },
  {
   "cell_type": "code",
   "execution_count": 12,
   "metadata": {},
   "outputs": [],
   "source": [
    "max_source_length = max(list(map(lambda x: len(x.split()), source)))\n",
    "max_target_length = max(list(map(lambda x: len(x.split()), target)))"
   ]
  },
  {
   "cell_type": "code",
   "execution_count": 13,
   "metadata": {
    "scrolled": true
   },
   "outputs": [
    {
     "data": {
      "text/plain": [
       "(309, 331)"
      ]
     },
     "execution_count": 13,
     "metadata": {},
     "output_type": "execute_result"
    }
   ],
   "source": [
    "max_source_length, max_target_length"
   ]
  },
  {
   "cell_type": "code",
   "execution_count": 14,
   "metadata": {},
   "outputs": [],
   "source": [
    "# Find all the source and target words and sort them\n",
    "# Vocabulary of Source language\n",
    "all_source_words=set()\n",
    "for source_ in source:\n",
    "    for word in source_.split():\n",
    "        if word not in all_source_words:\n",
    "            all_source_words.add(word)\n",
    "# Vocabulary of Target \n",
    "all_target_words=set()\n",
    "for target_ in target:\n",
    "    for word in target_.split():\n",
    "        if word not in all_target_words:\n",
    "            all_target_words.add(word)\n",
    "# sort all unique source and target words\n",
    "source_words= sorted(list(all_source_words))\n",
    "target_words=sorted(list(all_target_words))"
   ]
  },
  {
   "cell_type": "code",
   "execution_count": 15,
   "metadata": {},
   "outputs": [],
   "source": [
    "source_word2idx= dict([(word, i+1) for i,word in enumerate(source_words)])\n",
    "target_word2idx= dict([(word, i+1) for i,word in enumerate(target_words)])"
   ]
  },
  {
   "cell_type": "code",
   "execution_count": 16,
   "metadata": {},
   "outputs": [],
   "source": [
    "source_idx2word= dict([(i, word) for word,i in source_word2idx.items()])\n",
    "target_idx2word= dict([(i, word) for word,i in target_word2idx.items()])"
   ]
  },
  {
   "cell_type": "markdown",
   "metadata": {},
   "source": [
    "# Split Train/Test Data"
   ]
  },
  {
   "cell_type": "code",
   "execution_count": 17,
   "metadata": {},
   "outputs": [],
   "source": [
    "final_to_consider.loc[:,'source'] = source\n",
    "final_to_consider.loc[:,'target'] = target"
   ]
  },
  {
   "cell_type": "code",
   "execution_count": 18,
   "metadata": {},
   "outputs": [],
   "source": [
    "\n",
    "train_percentage = 0.70\n",
    "val_percentage = 0.10\n",
    "test_percentage = 0.20\n",
    "train_break = int(final_to_consider.shape[0]*train_percentage)\n",
    "val_break = train_break+int(final_to_consider.shape[0]*val_percentage)\n",
    "\n",
    "X_train = final_to_consider[:train_break].source.values.tolist()\n",
    "y_train = final_to_consider[:train_break].target.values.tolist()\n",
    "\n",
    "X_val = final_to_consider[train_break:val_break].source.values.tolist()\n",
    "y_val = final_to_consider[train_break:val_break].target.values.tolist()\n",
    "\n",
    "X_test = final_to_consider[val_break:].source.values.tolist()\n",
    "y_test = final_to_consider[val_break:].target.values.tolist()"
   ]
  },
  {
   "cell_type": "code",
   "execution_count": 21,
   "metadata": {},
   "outputs": [],
   "source": [
    "test_df =  final_to_consider[val_break:]"
   ]
  },
  {
   "cell_type": "code",
   "execution_count": 22,
   "metadata": {},
   "outputs": [
    {
     "data": {
      "text/plain": [
       "(11900, 1700, 3400)"
      ]
     },
     "execution_count": 22,
     "metadata": {},
     "output_type": "execute_result"
    }
   ],
   "source": [
    "len(X_train), len(X_val), len(X_test)"
   ]
  },
  {
   "cell_type": "code",
   "execution_count": 23,
   "metadata": {},
   "outputs": [],
   "source": [
    "# Input tokens for encoder\n",
    "num_encoder_tokens=len(source_word2idx)+1\n",
    "# Input tokens for decoder zero padded\n",
    "num_decoder_tokens=len(target_word2idx)+1"
   ]
  },
  {
   "cell_type": "code",
   "execution_count": 24,
   "metadata": {},
   "outputs": [],
   "source": [
    "def generate_batch(X = X_train, y = y_train, batch_size = 128):\n",
    "    ''' Generate a batch of data '''\n",
    "    while True:\n",
    "        for j in range(0, len(X), batch_size):\n",
    "            encoder_input_data = np.zeros((batch_size, max_source_length),dtype='float32')\n",
    "            decoder_input_data = np.zeros((batch_size, max_target_length),dtype='float32')\n",
    "            decoder_target_data = np.zeros((batch_size, max_target_length, num_decoder_tokens),dtype='float32')\n",
    "            for i, (input_text, target_text) in enumerate(zip(X[j:j+batch_size], y[j:j+batch_size])):\n",
    "                for t, word in enumerate(input_text.split()):\n",
    "                    encoder_input_data[i, t] = source_word2idx[word] \n",
    "                for t, word in enumerate(target_text.split()):\n",
    "                    if t<len(target_text.split())-1:\n",
    "                        decoder_input_data[i, t] = target_word2idx[word] # decoder input seq\n",
    "                    if t>0:\n",
    "                        # decoder target sequence (one hot encoded)\n",
    "                        # does not include the START_ token\n",
    "                        # Offset by one timestep\n",
    "                        #print(word)\n",
    "                        decoder_target_data[i, t - 1, target_word2idx[word]] = 1.\n",
    "\n",
    "            yield([encoder_input_data, decoder_input_data], decoder_target_data)"
   ]
  },
  {
   "cell_type": "code",
   "execution_count": 25,
   "metadata": {},
   "outputs": [],
   "source": [
    "train_samples = len(X_train)\n",
    "val_samples = len(X_val)\n",
    "batch_size = 64\n",
    "epochs = 50\n",
    "latent_dim=256"
   ]
  },
  {
   "cell_type": "markdown",
   "metadata": {},
   "source": [
    "## Encoder"
   ]
  },
  {
   "cell_type": "code",
   "execution_count": 26,
   "metadata": {},
   "outputs": [],
   "source": [
    "# Define an input sequence and process it.\n",
    "encoder_inputs = Input(shape=(None,))\n",
    "enc_emb =  Embedding(num_encoder_tokens, latent_dim, mask_zero = True)(encoder_inputs)\n",
    "encoder_gru = GRU(latent_dim, return_state=True)\n",
    "encoder_outputs, encoder_states = encoder_gru(enc_emb)\n"
   ]
  },
  {
   "cell_type": "markdown",
   "metadata": {},
   "source": [
    "## Decoder"
   ]
  },
  {
   "cell_type": "code",
   "execution_count": 27,
   "metadata": {},
   "outputs": [],
   "source": [
    "# Set up the decoder, using `encoder_states` as initial state.\n",
    "decoder_inputs = Input(shape=(None,))\n",
    "dec_emb_layer = Embedding(num_decoder_tokens, latent_dim, mask_zero = True)\n",
    "dec_emb = dec_emb_layer(decoder_inputs)\n",
    "# We set up our decoder to return full output sequences,\n",
    "# and to return internal states as well. We don't use the\n",
    "# return states in the training model, but we will use them in inference.\n",
    "decoder_gru = GRU(latent_dim, return_sequences=True, return_state=True)\n",
    "decoder_outputs,_  = decoder_gru(dec_emb,initial_state=encoder_states)\n",
    "\n",
    "decoder_dense = Dense(num_decoder_tokens, activation='softmax')\n",
    "decoder_outputs = decoder_dense(decoder_outputs)"
   ]
  },
  {
   "cell_type": "code",
   "execution_count": 28,
   "metadata": {},
   "outputs": [],
   "source": [
    "# Define the model that takes encoder and decoder input \n",
    "# to output decoder_outputs\n",
    "model = Model([encoder_inputs, decoder_inputs], decoder_outputs)"
   ]
  },
  {
   "cell_type": "code",
   "execution_count": 29,
   "metadata": {},
   "outputs": [],
   "source": [
    "model.compile(optimizer='rmsprop', loss='categorical_crossentropy', metrics=['acc'])"
   ]
  },
  {
   "cell_type": "code",
   "execution_count": 30,
   "metadata": {},
   "outputs": [
    {
     "data": {
      "image/png": "[encoded data removed]",
      "text/plain": [
       "<IPython.core.display.Image object>"
      ]
     },
     "execution_count": 30,
     "metadata": {},
     "output_type": "execute_result"
    }
   ],
   "source": [
    "from keras.utils.vis_utils import plot_model\n",
    "plot_model(model, to_file='model_plot.png', show_shapes=True, show_layer_names=True,expand_nested=True)"
   ]
  },
  {
   "cell_type": "code",
   "execution_count": 31,
   "metadata": {},
   "outputs": [],
   "source": [
    "train_samples = len(X_train) # Total Training samples\n",
    "val_samples = len(X_val)    # Total validation or test samples\n",
    "batch_size = 64\n",
    "epochs = 20"
   ]
  },
  {
   "cell_type": "code",
   "execution_count": 32,
   "metadata": {},
   "outputs": [
    {
     "name": "stderr",
     "output_type": "stream",
     "text": [
      "/home/cloud_user/anaconda3/envs/ticket_resolution/lib/python3.6/site-packages/tensorflow/python/framework/indexed_slices.py:434: UserWarning: Converting sparse IndexedSlices to a dense Tensor of unknown shape. This may consume a large amount of memory.\n",
      "  \"Converting sparse IndexedSlices to a dense Tensor of unknown shape. \"\n"
     ]
    },
    {
     "name": "stdout",
     "output_type": "stream",
     "text": [
      "Epoch 1/20\n",
      "185/185 [==============================] - 1392s 8s/step - loss: 0.1610 - acc: 0.2084 - val_loss: 0.0999 - val_acc: 0.2702\n",
      "Epoch 2/20\n",
      "185/185 [==============================] - 1690s 9s/step - loss: 0.1259 - acc: 0.3537 - val_loss: 0.0974 - val_acc: 0.3800\n",
      "Epoch 3/20\n",
      "185/185 [==============================] - 1674s 9s/step - loss: 0.1106 - acc: 0.4358 - val_loss: 0.0864 - val_acc: 0.4541\n",
      "Epoch 4/20\n",
      "185/185 [==============================] - 1678s 9s/step - loss: 0.1000 - acc: 0.4884 - val_loss: 0.0896 - val_acc: 0.4989\n",
      "Epoch 5/20\n",
      "185/185 [==============================] - 1675s 9s/step - loss: 0.0917 - acc: 0.5307 - val_loss: 0.1407 - val_acc: 0.5401\n",
      "Epoch 6/20\n",
      "185/185 [==============================] - 2223s 12s/step - loss: 0.0847 - acc: 0.5629 - val_loss: 0.1051 - val_acc: 0.5659\n",
      "Epoch 7/20\n",
      "185/185 [==============================] - 2325s 13s/step - loss: 0.0789 - acc: 0.5898 - val_loss: 0.1321 - val_acc: 0.5786\n",
      "Epoch 8/20\n",
      "185/185 [==============================] - 2140s 12s/step - loss: 0.0739 - acc: 0.6127 - val_loss: 0.0963 - val_acc: 0.5966\n",
      "Epoch 9/20\n",
      "185/185 [==============================] - 1759s 10s/step - loss: 0.0696 - acc: 0.6327 - val_loss: 0.0915 - val_acc: 0.6117\n",
      "Epoch 10/20\n",
      "185/185 [==============================] - 2125s 11s/step - loss: 0.0655 - acc: 0.6519 - val_loss: 0.0937 - val_acc: 0.6304\n",
      "Epoch 11/20\n",
      "185/185 [==============================] - 2092s 11s/step - loss: 0.0620 - acc: 0.6673 - val_loss: 0.0541 - val_acc: 0.6368\n",
      "Epoch 12/20\n",
      "185/185 [==============================] - 1717s 9s/step - loss: 0.0589 - acc: 0.6807 - val_loss: 0.0826 - val_acc: 0.6391\n",
      "Epoch 13/20\n",
      "185/185 [==============================] - 1706s 9s/step - loss: 0.0558 - acc: 0.6948 - val_loss: 0.0890 - val_acc: 0.6457\n",
      "Epoch 14/20\n",
      "185/185 [==============================] - 1728s 9s/step - loss: 0.0532 - acc: 0.7089 - val_loss: 0.1004 - val_acc: 0.6478\n",
      "Epoch 15/20\n",
      "185/185 [==============================] - 1713s 9s/step - loss: 0.0504 - acc: 0.7213 - val_loss: 0.0609 - val_acc: 0.6498\n",
      "Epoch 16/20\n",
      "185/185 [==============================] - 1724s 9s/step - loss: 0.0481 - acc: 0.7321 - val_loss: 0.0661 - val_acc: 0.6461\n",
      "Epoch 17/20\n",
      "185/185 [==============================] - 1708s 9s/step - loss: 0.0459 - acc: 0.7429 - val_loss: 0.0606 - val_acc: 0.6520\n",
      "Epoch 18/20\n",
      "185/185 [==============================] - 1717s 9s/step - loss: 0.0437 - acc: 0.7541 - val_loss: 0.0773 - val_acc: 0.6464\n",
      "Epoch 19/20\n",
      "185/185 [==============================] - 1715s 9s/step - loss: 0.0417 - acc: 0.7644 - val_loss: 0.0749 - val_acc: 0.6537\n",
      "Epoch 20/20\n",
      "185/185 [==============================] - 1703s 9s/step - loss: 0.0399 - acc: 0.7740 - val_loss: 0.0720 - val_acc: 0.6479\n"
     ]
    },
    {
     "data": {
      "text/plain": [
       "<keras.callbacks.callbacks.History at 0x7f7f94d48a90>"
      ]
     },
     "execution_count": 32,
     "metadata": {},
     "output_type": "execute_result"
    }
   ],
   "source": [
    "model.fit_generator(generator = generate_batch(X_train, y_train, batch_size = batch_size),\n",
    "                    steps_per_epoch = train_samples//batch_size,\n",
    "                    epochs=epochs,\n",
    "                    validation_data = generate_batch(X_val, y_val, batch_size = batch_size),\n",
    "                    validation_steps = val_samples//batch_size)"
   ]
  },
  {
   "cell_type": "code",
   "execution_count": 33,
   "metadata": {},
   "outputs": [],
   "source": [
    "model_history = pd.DataFrame(model.history.history, index=np.arange(1,epochs+1))"
   ]
  },
  {
   "cell_type": "code",
   "execution_count": 34,
   "metadata": {},
   "outputs": [],
   "source": [
    "model_history.to_pickle('../data/single_GRU_model_history.pkl')"
   ]
  },
  {
   "cell_type": "code",
   "execution_count": 61,
   "metadata": {},
   "outputs": [
    {
     "data": {
      "image/png": "[encoded data removed]",
      "text/plain": [
       "<IPython.core.display.Image object>"
      ]
     },
     "execution_count": 61,
     "metadata": {},
     "output_type": "execute_result"
    }
   ],
   "source": [
    "from keras.utils.vis_utils import plot_model\n",
    "plot_model(model, to_file='model_plot.png', show_shapes=True, show_layer_names=True,expand_nested=True)"
   ]
  },
  {
   "cell_type": "markdown",
   "metadata": {},
   "source": [
    "## Inference Model"
   ]
  },
  {
   "cell_type": "code",
   "execution_count": 86,
   "metadata": {},
   "outputs": [],
   "source": [
    "# decoder_gru(dec_emb, initial_state=decoder_states_inputs)\n",
    "# decoder_gru(dec_emb, initial_state=decoder_states_inputs)"
   ]
  },
  {
   "cell_type": "code",
   "execution_count": 35,
   "metadata": {},
   "outputs": [],
   "source": [
    "encoder_model = Model(encoder_inputs, encoder_states)\n",
    "decoder_states_inputs = Input(shape=(latent_dim,))\n",
    "dec_emb2= dec_emb_layer(decoder_inputs)\n",
    "decoder_outputs2, decoder_states = decoder_gru(dec_emb2, initial_state=decoder_states_inputs)\n",
    "decoder_outputs2 = decoder_dense(decoder_outputs2)\n",
    "\n",
    "decoder_model = Model(\n",
    "    [decoder_inputs] + [decoder_states_inputs],\n",
    "    [decoder_outputs2] + [decoder_states]) \n"
   ]
  },
  {
   "cell_type": "code",
   "execution_count": 36,
   "metadata": {},
   "outputs": [],
   "source": [
    "# Encode the input sequence to get the \"Context vectors\"\n",
    "# encoder_model = Model(encoder_inputs, encoder_states)\n",
    "# Decoder setup\n",
    "# Below tensors will hold the states of the previous time step\n",
    "# decoder_state_input_h = Input(shape=(latent_dim,))\n",
    "# decoder_state_input_c = Input(shape=(latent_dim,))\n",
    "# decoder_state_input = [decoder_state_input_h, decoder_state_input_c]\n",
    "# # Get the embeddings of the decoder sequence\n",
    "# dec_emb2= dec_emb_layer(decoder_inputs)\n",
    "# # To predict the next word in the sequence, set the initial states to the states from the previous time step\n",
    "\n",
    "# decoder_outputs2, state_h2, state_c2 = decoder_lstm(dec_emb2, initial_state=decoder_state_input)\n",
    "# decoder_states2 = [state_h2, state_c2]\n",
    "# # A dense softmax layer to generate prob dist. over the target vocabulary\n",
    "# decoder_outputs2 = decoder_dense(decoder_outputs2)\n",
    "# # Final decoder model\n",
    "# decoder_model = Model(\n",
    "#     [decoder_inputs] + decoder_state_input,\n",
    "#     [decoder_outputs2] + decoder_states2)"
   ]
  },
  {
   "cell_type": "code",
   "execution_count": 37,
   "metadata": {},
   "outputs": [],
   "source": [
    "# encoder_model = Model(encoder_inputs, encoder_state)\n",
    "# decoder_states_inputs = Input(shape=(latent_dim,))\n",
    "# decoder_outputs, decoder_states = decoder_gru(\n",
    "#     decoder_inputs, initial_state=decoder_states_inputs)\n",
    "# decoder_outputs = decoder_dense(decoder_outputs)"
   ]
  },
  {
   "cell_type": "code",
   "execution_count": 38,
   "metadata": {},
   "outputs": [],
   "source": [
    "# Encode the input sequence to get the \"Context vectors\"\n",
    "# encoder_model = Model(encoder_inputs, encoder_states)\n",
    "# Decoder setup\n",
    "# Below tensors will hold the states of the previous time step\n",
    "# decoder_state_input_h = Input(shape=(latent_dim,))\n",
    "# \"\"\"decoder_state_input_c = Input(shape=(latent_dim,))\"\"\"\n",
    "# decoder_state_input = [decoder_state_input_h]\n",
    "# # Get the embeddings of the decoder sequence\n",
    "# dec_emb2= dec_emb_layer(decoder_inputs)\n",
    "# # To predict the next word in the sequence, set the initial states to the states from the previous time step\n",
    "# # d_gru = GRU(latent_dim, return_sequences=True, return_state=True)\n",
    "# decoder_outputs2, state_h2 = d_gru(dec_emb2, initial_state=decoder_state_input)\n",
    "# decoder_states2 = [state_h2]\n",
    "# # A dense softmax layer to generate prob dist. over the target vocabulary\n",
    "# decoder_outputs2 = decoder_dense(decoder_outputs2)\n",
    "# # Final decoder model\n",
    "# decoder_model = Model(\n",
    "#     [decoder_inputs] + decoder_state_input,\n",
    "#     [decoder_outputs2] + decoder_states2)"
   ]
  },
  {
   "cell_type": "code",
   "execution_count": 39,
   "metadata": {},
   "outputs": [],
   "source": [
    "def decode_sequence(input_seq):\n",
    "    # Encode the input as state vectors.\n",
    "    states_value = encoder_model.predict(input_seq)\n",
    "#     print (type(states_value))\n",
    "    # Generate empty target sequence of length 1.\n",
    "    target_seq = np.zeros((1,1))\n",
    "    # Populate the first character of \n",
    "    #target sequence with the start character.\n",
    "    target_seq[0, 0] = target_word2idx['START_']\n",
    "# Sampling loop for a batch of sequences\n",
    "    # (to simplify, here we assume a batch of size 1).\n",
    "    stop_condition = False\n",
    "    decoded_sentence = ''\n",
    "    while not stop_condition:\n",
    "        output_tokens, h = decoder_model.predict([target_seq] + [states_value])\n",
    "# Sample a token\n",
    "        sampled_token_index = np.argmax(output_tokens[0, -1, :])\n",
    "        sampled_word =target_idx2word[sampled_token_index]\n",
    "        decoded_sentence += ' '+ sampled_word\n",
    "# Exit condition: either hit max length\n",
    "        # or find stop character.\n",
    "        if (sampled_word == '_END' or\n",
    "           len(decoded_sentence) > 100):\n",
    "            stop_condition = True\n",
    "# Update the target sequence (of length 1).\n",
    "        target_seq = np.zeros((1,1))\n",
    "        target_seq[0, 0] = sampled_token_index\n",
    "# Update states\n",
    "        states_value = h\n",
    "    return decoded_sentence"
   ]
  },
  {
   "cell_type": "code",
   "execution_count": 40,
   "metadata": {},
   "outputs": [],
   "source": [
    "test_gen = generate_batch(X_test, y_test, batch_size = 1)\n",
    "\n",
    "y_preds = []\n",
    "\n",
    "for i in range(len(y_test)):\n",
    "    (input_seq, actual_output), _ = next(test_gen)\n",
    "    decoded_sentence = decode_sequence(input_seq)\n",
    "    y_preds.append(decoded_sentence)\n",
    "# print('Input Source sentence:', X_test[k:k+1].values[0])\n",
    "# print('Actual Target Translation:', y_test[k:k+1].values[0][6:-4])\n",
    "# print('Predicted Target Translation:', decoded_sentence[:-4])"
   ]
  },
  {
   "cell_type": "code",
   "execution_count": 41,
   "metadata": {},
   "outputs": [],
   "source": [
    "def split_actions(x):\n",
    "    x = re.sub('_END|START_', '', x).strip()\n",
    "    actions = set([a.strip() for a in x.split(',')])\n",
    "    try:\n",
    "        actions.remove('')\n",
    "    except:\n",
    "        pass\n",
    "    return list(actions)"
   ]
  },
  {
   "cell_type": "code",
   "execution_count": 42,
   "metadata": {},
   "outputs": [],
   "source": [
    "# y_preds[:50]"
   ]
  },
  {
   "cell_type": "code",
   "execution_count": 43,
   "metadata": {},
   "outputs": [
    {
     "name": "stderr",
     "output_type": "stream",
     "text": [
      "/home/cloud_user/anaconda3/envs/ticket_resolution/lib/python3.6/site-packages/pandas/core/indexing.py:845: SettingWithCopyWarning: \n",
      "A value is trying to be set on a copy of a slice from a DataFrame.\n",
      "Try using .loc[row_indexer,col_indexer] = value instead\n",
      "\n",
      "See the caveats in the documentation: https://pandas.pydata.org/pandas-docs/stable/user_guide/indexing.html#returning-a-view-versus-a-copy\n",
      "  self.obj[key] = _infer_fill_value(value)\n",
      "/home/cloud_user/anaconda3/envs/ticket_resolution/lib/python3.6/site-packages/pandas/core/indexing.py:966: SettingWithCopyWarning: \n",
      "A value is trying to be set on a copy of a slice from a DataFrame.\n",
      "Try using .loc[row_indexer,col_indexer] = value instead\n",
      "\n",
      "See the caveats in the documentation: https://pandas.pydata.org/pandas-docs/stable/user_guide/indexing.html#returning-a-view-versus-a-copy\n",
      "  self.obj[item] = s\n"
     ]
    }
   ],
   "source": [
    "test_df.loc[:, 'predicted_actions'] = list(map(split_actions, y_preds))"
   ]
  },
  {
   "cell_type": "code",
   "execution_count": 44,
   "metadata": {
    "scrolled": true
   },
   "outputs": [],
   "source": [
    "# preds = pd.DataFrame(y_preds, columns=['predicted_actions'])\n",
    "\n",
    "# preds.to_pickle('../data/dl_preds.pkl')\n",
    "\n",
    "# \"\"\"\n",
    "# Apply actions extractor\n",
    "\n",
    "# \"\"\"\n",
    "# preds = pd.read_pickle('../data/dl_preds.pkl')\n",
    "# preds.loc[:,'res_actions'] = final_to_consider.res_actions[break_point:].values.tolist()\n",
    "# test_df = preds"
   ]
  },
  {
   "cell_type": "code",
   "execution_count": 45,
   "metadata": {},
   "outputs": [],
   "source": [
    "get_spacy_emb = lambda text: nlp(text).vector"
   ]
  },
  {
   "cell_type": "code",
   "execution_count": 46,
   "metadata": {},
   "outputs": [],
   "source": [
    "def get_neighbors_from_emb(test_vecs, train_vecs, k=5, threshold=0.8):\n",
    "    \n",
    "    if (len(test_vecs)==0) or (len(train_vecs)==0):\n",
    "        return pd.DataFrame(columns=['neighbors'])\n",
    "    \n",
    "    test_emb = np.matrix(test_vecs.tolist())\n",
    "    train_emb = np.matrix(train_vecs.tolist())\n",
    "    \n",
    "    similarity = cosine_similarity(test_emb, train_emb)\n",
    "    neighbors = []\n",
    "    similarity = np.round(similarity, 2)\n",
    "    \n",
    "    for i in range(similarity.shape[0]): \n",
    "        states = (similarity[i] >= threshold) & (similarity[0] <= 1)\n",
    "        indices = np.where(states)[0]\n",
    "        indices = indices[np.argsort(similarity[i][indices])[::-1][:k]]\n",
    "        sim_scores = np.round(similarity[i][indices], 4)\n",
    "        neighbors.append(list(tuple(zip(indices, sim_scores))))\n",
    "    \n",
    "    return pd.DataFrame([neighbors], index=['neighbors']).T"
   ]
  },
  {
   "cell_type": "code",
   "execution_count": 47,
   "metadata": {},
   "outputs": [],
   "source": [
    "# count = 0\n",
    "def map_best_actions(actual_actions, predicted_actions, res_vectorizer=None):\n",
    "    global count\n",
    "    \n",
    "#     count += 1\n",
    "    if (len(actual_actions)==0) or (len(predicted_actions)==0):\n",
    "        return pd.DataFrame()\n",
    "    \n",
    "    actual_actions_vecs = np.asarray([get_spacy_emb(action) for action in actual_actions])\n",
    "    predicted_actions_vecs = np.asarray([get_spacy_emb(action) for action in predicted_actions])\n",
    "    mapping_ = get_neighbors_from_emb(actual_actions_vecs, predicted_actions_vecs, k=1, threshold=0.0)\n",
    "    mapping_.index = actual_actions\n",
    "    mapping_ = mapping_[mapping_.neighbors.map(len)>0]\n",
    "    \n",
    "    try:\n",
    "        mapping_.neighbors = mapping_.neighbors.map(lambda x: (x[0][0], predicted_actions[x[0][0]], x[0][1]))\n",
    "    except:\n",
    "        print (actual_actions, predicted_actions)\n",
    "        print (mapping_)\n",
    "        raise Exception\n",
    "    \n",
    "    return mapping_"
   ]
  },
  {
   "cell_type": "markdown",
   "metadata": {},
   "source": [
    "# Evaluation of Results"
   ]
  },
  {
   "cell_type": "code",
   "execution_count": 48,
   "metadata": {},
   "outputs": [],
   "source": [
    "compute_meteor_score = lambda actual, prediction: round(meteor_score([actual], prediction), 4)\n",
    "compute_bert_scores = lambda actual_list, pred_list : np.round((score(pred_list, actual_list, lang='en', model_type='bert-base-uncased', nthreads=32,rescale_with_baseline=True)[-1]).tolist(),4)\n"
   ]
  },
  {
   "cell_type": "code",
   "execution_count": 49,
   "metadata": {},
   "outputs": [
    {
     "name": "stderr",
     "output_type": "stream",
     "text": [
      "/home/cloud_user/anaconda3/envs/ticket_resolution/lib/python3.6/site-packages/pandas/core/indexing.py:845: SettingWithCopyWarning: \n",
      "A value is trying to be set on a copy of a slice from a DataFrame.\n",
      "Try using .loc[row_indexer,col_indexer] = value instead\n",
      "\n",
      "See the caveats in the documentation: https://pandas.pydata.org/pandas-docs/stable/user_guide/indexing.html#returning-a-view-versus-a-copy\n",
      "  self.obj[key] = _infer_fill_value(value)\n",
      "/home/cloud_user/anaconda3/envs/ticket_resolution/lib/python3.6/site-packages/pandas/core/indexing.py:966: SettingWithCopyWarning: \n",
      "A value is trying to be set on a copy of a slice from a DataFrame.\n",
      "Try using .loc[row_indexer,col_indexer] = value instead\n",
      "\n",
      "See the caveats in the documentation: https://pandas.pydata.org/pandas-docs/stable/user_guide/indexing.html#returning-a-view-versus-a-copy\n",
      "  self.obj[item] = s\n"
     ]
    }
   ],
   "source": [
    "# test_df.loc[:,'predicted_actions'] = test_df.neighbors.apply(lambda x: set(itertools.chain(*[train_df.res_actions.loc[a[0]] for a in x]))).map(list)\n",
    "test_df.loc[:,'mapped_actions'] = test_df.apply(lambda x: map_best_actions(x['res_actions'],x['predicted_actions'], None), axis=1)\n"
   ]
  },
  {
   "cell_type": "code",
   "execution_count": 50,
   "metadata": {},
   "outputs": [],
   "source": [
    "def get_mapped_data(result_df, inc='None'):\n",
    "    \n",
    "    if result_df.shape[0] < 1:\n",
    "        return []\n",
    "    \n",
    "    incs = [inc]*result_df.shape[0]\n",
    "    actual_labels = result_df.index.tolist()\n",
    "    predicted_labels = result_df.neighbors.map(lambda x: x[1])\n",
    "    return list(zip(incs, actual_labels, predicted_labels))"
   ]
  },
  {
   "cell_type": "markdown",
   "metadata": {},
   "source": [
    "# Compute Meteor Score in Bunch "
   ]
  },
  {
   "cell_type": "code",
   "execution_count": 51,
   "metadata": {},
   "outputs": [],
   "source": [
    "def generate_best_meteor_scores(df_):\n",
    "    \"\"\" Input : df_['best_actions'] \"\"\"\n",
    "    \n",
    "    df_.loc[:,'best_meteor_scores'] = df_.mapped_actions.apply(lambda r: [compute_meteor_score(res[1],res[2]) for res in get_mapped_data(r)])\n",
    "    return df_"
   ]
  },
  {
   "cell_type": "markdown",
   "metadata": {},
   "source": [
    "# Compute BertScore in a Bunch"
   ]
  },
  {
   "cell_type": "code",
   "execution_count": 52,
   "metadata": {},
   "outputs": [],
   "source": [
    "def generate_best_bert_scores(df_):\n",
    "    \"\"\" Input : df_['best_actions'] \"\"\"\n",
    "    \n",
    "    bert_score_data = df_.apply(lambda x: get_mapped_data(x['mapped_actions'], x.ticket_obj.number) , axis=1)\n",
    "    bert_score_data = pd.DataFrame(list(itertools.chain(*bert_score_data.values.tolist())), columns=['number','actual','predicted'])\n",
    "    bert_score_data.loc[:,'bert_score'] = compute_bert_scores(bert_score_data['actual'].values.tolist(), bert_score_data['predicted'].values.tolist())\n",
    "    bert_score_data.loc[bert_score_data.bert_score<0, 'bert_score'] = 0.0\n",
    "    bert_score_data.index = bert_score_data.number.values.tolist()\n",
    "    df_.loc[:,'best_bert_scores'] = df_.ticket_obj.map(lambda x: bert_score_data.bert_score.loc[[x.number]].values.tolist() if x.number in bert_score_data.index else [])\n",
    "    return df_\n",
    "    \n"
   ]
  },
  {
   "cell_type": "code",
   "execution_count": 53,
   "metadata": {},
   "outputs": [],
   "source": [
    "# test_df.loc[:,'ticket_obj'] = final_to_consider.ticket_obj[11000:].values.tolist()\n",
    "# test_df"
   ]
  },
  {
   "cell_type": "code",
   "execution_count": 54,
   "metadata": {},
   "outputs": [],
   "source": [
    "test_df = generate_best_meteor_scores(test_df)\n",
    "test_df = generate_best_bert_scores(test_df)"
   ]
  },
  {
   "cell_type": "code",
   "execution_count": 55,
   "metadata": {},
   "outputs": [],
   "source": [
    "test_df.loc[:,'scores_sum'] = test_df.apply(lambda x: (np.mean([x['best_meteor_scores'], x['best_bert_scores']], axis=0).sum()), axis=1) \n"
   ]
  },
  {
   "cell_type": "code",
   "execution_count": 56,
   "metadata": {},
   "outputs": [],
   "source": [
    "test_df.loc[:, 'precision'] = test_df.apply(lambda x: x['scores_sum']/len(x['predicted_actions']) if len(x['predicted_actions'])!=0 else 0, axis=1).values.tolist()\n",
    "test_df.loc[:, 'recall'] = test_df.apply(lambda x: x['scores_sum']/len(x['res_actions']) if len(x['res_actions'])!=0 else 0, axis=1).values.tolist()\n",
    "test_df.loc[:, 'precision'] = test_df.precision.map(lambda x: 1.0 if x > 1.0 else x)\n",
    "test_df.loc[:, 'recall'] = test_df.recall.map(lambda x: 1.0 if x > 1.0 else x)\n",
    "test_df.loc[:, 'f1_score'] = ((2*test_df['precision']*test_df['recall'])/(test_df['precision']+test_df['recall'])).fillna(0).values.tolist()"
   ]
  },
  {
   "cell_type": "code",
   "execution_count": 59,
   "metadata": {},
   "outputs": [],
   "source": [
    "\"\"\" Encoder Decoder Model with GRU \"\"\"\n",
    "result = test_df[['precision','recall','f1_score']].describe()"
   ]
  },
  {
   "cell_type": "code",
   "execution_count": 60,
   "metadata": {},
   "outputs": [],
   "source": [
    "result.to_pickle('../data/gru_results.pkl')"
   ]
  },
  {
   "cell_type": "code",
   "execution_count": null,
   "metadata": {},
   "outputs": [],
   "source": []
  }
 ],
 "metadata": {
  "kernelspec": {
   "display_name": "Python [conda env:ticket_resolution]",
   "language": "python",
   "name": "conda-env-ticket_resolution-py"
  },
  "language_info": {
   "codemirror_mode": {
    "name": "ipython",
    "version": 3
   },
   "file_extension": ".py",
   "mimetype": "text/x-python",
   "name": "python",
   "nbconvert_exporter": "python",
   "pygments_lexer": "ipython3",
   "version": "3.6.5"
  }
 },
 "nbformat": 4,
 "nbformat_minor": 2
}
