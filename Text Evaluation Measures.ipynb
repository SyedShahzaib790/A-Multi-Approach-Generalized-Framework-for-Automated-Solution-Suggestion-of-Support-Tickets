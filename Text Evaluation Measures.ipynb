{
 "cells": [
  {
   "cell_type": "code",
   "execution_count": null,
   "metadata": {},
   "outputs": [],
   "source": [
    "# !pip install bert_score\n",
    "# !pip install ipywidgets"
   ]
  },
  {
   "cell_type": "markdown",
   "metadata": {},
   "source": [
    "# LOAD LIBRARIES"
   ]
  },
  {
   "cell_type": "code",
   "execution_count": null,
   "metadata": {},
   "outputs": [],
   "source": [
    "import pandas as pd\n",
    "from bert_score import score\n",
    "from nltk.translate.bleu_score import sentence_bleu\n",
    "from nltk.translate.meteor_score import meteor_score\n",
    "from nltk.translate.bleu_score import corpus_bleu\n",
    "import nltk\n",
    "nltk.download('wordnet')\n",
    "from functions import *"
   ]
  },
  {
   "cell_type": "markdown",
   "metadata": {},
   "source": [
    "# BERTScore Metric"
   ]
  },
  {
   "cell_type": "code",
   "execution_count": null,
   "metadata": {},
   "outputs": [],
   "source": [
    "\"\"\"\n",
    "=== Why to Use BertScore?\n",
    "\n",
    "In order to evulate predictions on the basis of their semantic meaning.\n",
    "In most of the cases Meteor is unable to handle the semantic variation of different texts having the same meaning.\n",
    "\n",
    "Good Examples:\n",
    "[\n",
    "\n",
    "'updated the password':'changed the credentials', bert_score:0.61, meteor_score:0.11\n",
    "'modified firewall settings':'updated firewall rules', bert_score:0.76, meteor_score:0.11\n",
    "# 'Categorized website':'Categorized URL', bert_score:0.70, meteor_score:0.17\n",
    "# 'Added space to drive':'Increased drive capacity', bert_score:0.60, meteor_score:0.12\n",
    "]\n",
    "\n",
    "\n",
    "=== Why to Use Meteor?\n",
    "\n",
    "In order to evaluate predictions on the basis of syntactic and synonyms. \n",
    "In some cases bert_score give high value even if the prediction is not correct.\n",
    "\n",
    "Good Examples:\n",
    "[\n",
    "\n",
    "'Categorized the website':'Tested website access', bert_score:0.40, meteor_score:0.16\n",
    "'modified firewall settings':'changed user account', bert_score:0.39, meteor_score:0.0\n",
    "'Categorized website':'updated account details', bert_score:0.32, meteor_score:0.0\n",
    "'Added space to drive':'Increased system RAM', bert_score:0.34, meteor_score:0.12\n",
    "]\n",
    "\n",
    "=== Why are we not using simple cosine similarity for evaluation?\n",
    "\n",
    "This is because we want our predictions to be evaluated in a particular sequence\n",
    "with respect to actual labels. There might be the case where the particular word\n",
    "in two phrases used at different locations, we want to make sure that the meaning\n",
    "of that word should be matched one to one against the other phrase. \n",
    "Following example yeilds high cosine similarity whereas the phrases are not same.\n",
    "\n",
    " - Categorized website\n",
    " - Deleted the categorized URL\n",
    " \n",
    "cosine similarity using spacy: 0.68\n",
    "Bert Score: 0.25\n",
    "Meteor Score: 0.22\n",
    "\n",
    " ------\n",
    " - 'Added space to drive'\n",
    " - 'Deleted space from drive'\n",
    "\n",
    "cosine similarity using spacy: 0.86\n",
    "Bert Score: 0.52\n",
    "Meteor Score: 0.25\n",
    "\"\"\"\n",
    "\n",
    "\n"
   ]
  },
  {
   "cell_type": "code",
   "execution_count": null,
   "metadata": {},
   "outputs": [],
   "source": [
    "actual_list = ['Added space to drive']\n",
    "predicted_list =['Deleted space from drive']"
   ]
  },
  {
   "cell_type": "code",
   "execution_count": null,
   "metadata": {},
   "outputs": [],
   "source": [
    "nlp(actual_list[0]).similarity(nlp(predicted_list[0]))"
   ]
  },
  {
   "cell_type": "code",
   "execution_count": null,
   "metadata": {},
   "outputs": [],
   "source": [
    "# https://pypi.org/project/bert-score/\n",
    "score(predicted_list, actual_list, lang='en', model_type='bert-base-uncased', rescale_with_baseline=True)"
   ]
  },
  {
   "cell_type": "code",
   "execution_count": null,
   "metadata": {
    "scrolled": true
   },
   "outputs": [],
   "source": [
    "round(meteor_score(actual_list, predicted_list[0]), 4)"
   ]
  },
  {
   "cell_type": "code",
   "execution_count": null,
   "metadata": {},
   "outputs": [],
   "source": [
    "round(sentence_bleu(['categorized the site'.split()], 'site has been categorized'.split(), auto_reweigh=True), 4)"
   ]
  },
  {
   "cell_type": "code",
   "execution_count": null,
   "metadata": {},
   "outputs": [],
   "source": []
  }
 ],
 "metadata": {
  "kernelspec": {
   "display_name": "Python [conda env:ticket_resolution]",
   "language": "python",
   "name": "conda-env-ticket_resolution-py"
  },
  "language_info": {
   "codemirror_mode": {
    "name": "ipython",
    "version": 3
   },
   "file_extension": ".py",
   "mimetype": "text/x-python",
   "name": "python",
   "nbconvert_exporter": "python",
   "pygments_lexer": "ipython3",
   "version": "3.6.5"
  }
 },
 "nbformat": 4,
 "nbformat_minor": 4
}
